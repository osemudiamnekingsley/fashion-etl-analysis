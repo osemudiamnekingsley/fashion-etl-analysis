{
 "cells": [
  {
   "cell_type": "code",
   "execution_count": 2,
   "id": "8e738b1c-4089-4f72-a10c-87ae311e8406",
   "metadata": {},
   "outputs": [],
   "source": [
    "import pandas as pd"
   ]
  },
  {
   "cell_type": "markdown",
   "id": "b24e4ba6-de90-43d6-b946-c1b739656f5c",
   "metadata": {},
   "source": [
    "LOADING IN THE CUSTOMERS DATA"
   ]
  },
  {
   "cell_type": "code",
   "execution_count": 4,
   "id": "55ea5ff7-9936-425d-99e5-d523ddc70dc3",
   "metadata": {},
   "outputs": [
    {
     "name": "stderr",
     "output_type": "stream",
     "text": [
      "/tmp/ipykernel_13792/1941861754.py:1: DtypeWarning: Columns (3) have mixed types. Specify dtype option on import or set low_memory=False.\n",
      "  df_customers = pd.read_csv(\"dataset/raw/customers.csv\")\n"
     ]
    }
   ],
   "source": [
    "df_customers = pd.read_csv(\"dataset/raw/customers.csv\")"
   ]
  },
  {
   "cell_type": "code",
   "execution_count": 5,
   "id": "f62a4b70-3466-43d1-bb59-0b48c5f42179",
   "metadata": {},
   "outputs": [
    {
     "data": {
      "text/html": [
       "<div>\n",
       "<style scoped>\n",
       "    .dataframe tbody tr th:only-of-type {\n",
       "        vertical-align: middle;\n",
       "    }\n",
       "\n",
       "    .dataframe tbody tr th {\n",
       "        vertical-align: top;\n",
       "    }\n",
       "\n",
       "    .dataframe thead th {\n",
       "        text-align: right;\n",
       "    }\n",
       "</style>\n",
       "<table border=\"1\" class=\"dataframe\">\n",
       "  <thead>\n",
       "    <tr style=\"text-align: right;\">\n",
       "      <th></th>\n",
       "      <th>Customer ID</th>\n",
       "      <th>Name</th>\n",
       "      <th>Email</th>\n",
       "      <th>Telephone</th>\n",
       "      <th>City</th>\n",
       "      <th>Country</th>\n",
       "      <th>Gender</th>\n",
       "      <th>Date Of Birth</th>\n",
       "      <th>Job Title</th>\n",
       "    </tr>\n",
       "  </thead>\n",
       "  <tbody>\n",
       "    <tr>\n",
       "      <th>0</th>\n",
       "      <td>1</td>\n",
       "      <td>Tyler Garcia</td>\n",
       "      <td>tyler.garcia@fake_gmail.com</td>\n",
       "      <td>922.970.2265x47563</td>\n",
       "      <td>New York</td>\n",
       "      <td>United States</td>\n",
       "      <td>M</td>\n",
       "      <td>2003-07-15</td>\n",
       "      <td>NaN</td>\n",
       "    </tr>\n",
       "    <tr>\n",
       "      <th>1</th>\n",
       "      <td>2</td>\n",
       "      <td>Joshua Miller</td>\n",
       "      <td>joshua.miller@fake_gmail.com</td>\n",
       "      <td>+1-958-729-6169</td>\n",
       "      <td>New York</td>\n",
       "      <td>United States</td>\n",
       "      <td>M</td>\n",
       "      <td>2000-06-16</td>\n",
       "      <td>Records manager</td>\n",
       "    </tr>\n",
       "    <tr>\n",
       "      <th>2</th>\n",
       "      <td>3</td>\n",
       "      <td>Alison Marshall DDS</td>\n",
       "      <td>alison.marshall.dds@fake_hotmail.com</td>\n",
       "      <td>+1-645-567-0876x5409</td>\n",
       "      <td>New York</td>\n",
       "      <td>United States</td>\n",
       "      <td>F</td>\n",
       "      <td>2003-07-22</td>\n",
       "      <td>NaN</td>\n",
       "    </tr>\n",
       "    <tr>\n",
       "      <th>3</th>\n",
       "      <td>4</td>\n",
       "      <td>Jeffery Acosta</td>\n",
       "      <td>jeffery.acosta@fake_yahoo.com</td>\n",
       "      <td>212.336.0912x84994</td>\n",
       "      <td>New York</td>\n",
       "      <td>United States</td>\n",
       "      <td>M</td>\n",
       "      <td>1996-11-12</td>\n",
       "      <td>Proofreader</td>\n",
       "    </tr>\n",
       "    <tr>\n",
       "      <th>4</th>\n",
       "      <td>5</td>\n",
       "      <td>Ashley Sanders</td>\n",
       "      <td>ashley.sanders@fake_hotmail.com</td>\n",
       "      <td>7814535781</td>\n",
       "      <td>New York</td>\n",
       "      <td>United States</td>\n",
       "      <td>F</td>\n",
       "      <td>1998-02-10</td>\n",
       "      <td>Exercise physiologist</td>\n",
       "    </tr>\n",
       "  </tbody>\n",
       "</table>\n",
       "</div>"
      ],
      "text/plain": [
       "   Customer ID                 Name                                 Email  \\\n",
       "0            1         Tyler Garcia           tyler.garcia@fake_gmail.com   \n",
       "1            2        Joshua Miller          joshua.miller@fake_gmail.com   \n",
       "2            3  Alison Marshall DDS  alison.marshall.dds@fake_hotmail.com   \n",
       "3            4       Jeffery Acosta         jeffery.acosta@fake_yahoo.com   \n",
       "4            5       Ashley Sanders       ashley.sanders@fake_hotmail.com   \n",
       "\n",
       "              Telephone      City        Country Gender Date Of Birth  \\\n",
       "0    922.970.2265x47563  New York  United States      M    2003-07-15   \n",
       "1       +1-958-729-6169  New York  United States      M    2000-06-16   \n",
       "2  +1-645-567-0876x5409  New York  United States      F    2003-07-22   \n",
       "3    212.336.0912x84994  New York  United States      M    1996-11-12   \n",
       "4            7814535781  New York  United States      F    1998-02-10   \n",
       "\n",
       "               Job Title  \n",
       "0                    NaN  \n",
       "1        Records manager  \n",
       "2                    NaN  \n",
       "3            Proofreader  \n",
       "4  Exercise physiologist  "
      ]
     },
     "execution_count": 5,
     "metadata": {},
     "output_type": "execute_result"
    }
   ],
   "source": [
    "df_customers.head()"
   ]
  },
  {
   "cell_type": "code",
   "execution_count": 6,
   "id": "4af19afe-af3c-466d-8296-3b0a6603976e",
   "metadata": {},
   "outputs": [
    {
     "name": "stdout",
     "output_type": "stream",
     "text": [
      "<class 'pandas.core.frame.DataFrame'>\n",
      "RangeIndex: 1643306 entries, 0 to 1643305\n",
      "Data columns (total 9 columns):\n",
      " #   Column         Non-Null Count    Dtype \n",
      "---  ------         --------------    ----- \n",
      " 0   Customer ID    1643306 non-null  int64 \n",
      " 1   Name           1643306 non-null  object\n",
      " 2   Email          1643306 non-null  object\n",
      " 3   Telephone      1643306 non-null  object\n",
      " 4   City           1643306 non-null  object\n",
      " 5   Country        1643306 non-null  object\n",
      " 6   Gender         1643306 non-null  object\n",
      " 7   Date Of Birth  1643306 non-null  object\n",
      " 8   Job Title      1059121 non-null  object\n",
      "dtypes: int64(1), object(8)\n",
      "memory usage: 112.8+ MB\n"
     ]
    }
   ],
   "source": [
    "df_customers.info()"
   ]
  },
  {
   "cell_type": "code",
   "execution_count": 7,
   "id": "c0d4d54e-2051-49f2-b2de-3040f5571e57",
   "metadata": {},
   "outputs": [],
   "source": [
    "# Rename the column \"Date of Birth\" to \"DOB\"\n",
    "df_customers = df_customers.rename(columns={df_customers.columns[7]: 'DOB'})\n",
    "\n",
    "# Convert the DOB datatype to Datetime, Customer ID to string\n",
    "df_customers['DOB'] = pd.to_datetime(df_customers['DOB'])\n",
    "df_customers['Customer ID'] = df_customers['Customer ID'].astype(str)\n",
    "\n",
    "# Drop unwanted columns from the customer table\n",
    "df_customers = df_customers.drop(columns=['Email', 'Telephone', 'Job Title'])\n"
   ]
  },
  {
   "cell_type": "code",
   "execution_count": 8,
   "id": "1ac647ff-3841-44bb-90cd-3aa8ac70e8a5",
   "metadata": {},
   "outputs": [
    {
     "name": "stdout",
     "output_type": "stream",
     "text": [
      "<class 'pandas.core.frame.DataFrame'>\n",
      "RangeIndex: 1643306 entries, 0 to 1643305\n",
      "Data columns (total 6 columns):\n",
      " #   Column       Non-Null Count    Dtype         \n",
      "---  ------       --------------    -----         \n",
      " 0   Customer ID  1643306 non-null  object        \n",
      " 1   Name         1643306 non-null  object        \n",
      " 2   City         1643306 non-null  object        \n",
      " 3   Country      1643306 non-null  object        \n",
      " 4   Gender       1643306 non-null  object        \n",
      " 5   DOB          1643306 non-null  datetime64[ns]\n",
      "dtypes: datetime64[ns](1), object(5)\n",
      "memory usage: 75.2+ MB\n"
     ]
    }
   ],
   "source": [
    "df_customers.info()"
   ]
  },
  {
   "cell_type": "code",
   "execution_count": 9,
   "id": "2ed70b7a-84e7-4d87-91d9-aee0227d44cf",
   "metadata": {},
   "outputs": [
    {
     "data": {
      "text/html": [
       "<div>\n",
       "<style scoped>\n",
       "    .dataframe tbody tr th:only-of-type {\n",
       "        vertical-align: middle;\n",
       "    }\n",
       "\n",
       "    .dataframe tbody tr th {\n",
       "        vertical-align: top;\n",
       "    }\n",
       "\n",
       "    .dataframe thead th {\n",
       "        text-align: right;\n",
       "    }\n",
       "</style>\n",
       "<table border=\"1\" class=\"dataframe\">\n",
       "  <thead>\n",
       "    <tr style=\"text-align: right;\">\n",
       "      <th></th>\n",
       "      <th>Customer ID</th>\n",
       "      <th>Name</th>\n",
       "      <th>City</th>\n",
       "      <th>Country</th>\n",
       "      <th>Gender</th>\n",
       "      <th>DOB</th>\n",
       "    </tr>\n",
       "  </thead>\n",
       "  <tbody>\n",
       "    <tr>\n",
       "      <th>0</th>\n",
       "      <td>1</td>\n",
       "      <td>Tyler Garcia</td>\n",
       "      <td>New York</td>\n",
       "      <td>United States</td>\n",
       "      <td>M</td>\n",
       "      <td>2003-07-15</td>\n",
       "    </tr>\n",
       "    <tr>\n",
       "      <th>1</th>\n",
       "      <td>2</td>\n",
       "      <td>Joshua Miller</td>\n",
       "      <td>New York</td>\n",
       "      <td>United States</td>\n",
       "      <td>M</td>\n",
       "      <td>2000-06-16</td>\n",
       "    </tr>\n",
       "    <tr>\n",
       "      <th>2</th>\n",
       "      <td>3</td>\n",
       "      <td>Alison Marshall DDS</td>\n",
       "      <td>New York</td>\n",
       "      <td>United States</td>\n",
       "      <td>F</td>\n",
       "      <td>2003-07-22</td>\n",
       "    </tr>\n",
       "    <tr>\n",
       "      <th>3</th>\n",
       "      <td>4</td>\n",
       "      <td>Jeffery Acosta</td>\n",
       "      <td>New York</td>\n",
       "      <td>United States</td>\n",
       "      <td>M</td>\n",
       "      <td>1996-11-12</td>\n",
       "    </tr>\n",
       "    <tr>\n",
       "      <th>4</th>\n",
       "      <td>5</td>\n",
       "      <td>Ashley Sanders</td>\n",
       "      <td>New York</td>\n",
       "      <td>United States</td>\n",
       "      <td>F</td>\n",
       "      <td>1998-02-10</td>\n",
       "    </tr>\n",
       "  </tbody>\n",
       "</table>\n",
       "</div>"
      ],
      "text/plain": [
       "  Customer ID                 Name      City        Country Gender        DOB\n",
       "0           1         Tyler Garcia  New York  United States      M 2003-07-15\n",
       "1           2        Joshua Miller  New York  United States      M 2000-06-16\n",
       "2           3  Alison Marshall DDS  New York  United States      F 2003-07-22\n",
       "3           4       Jeffery Acosta  New York  United States      M 1996-11-12\n",
       "4           5       Ashley Sanders  New York  United States      F 1998-02-10"
      ]
     },
     "execution_count": 9,
     "metadata": {},
     "output_type": "execute_result"
    }
   ],
   "source": [
    "df_customers.head()"
   ]
  },
  {
   "cell_type": "code",
   "execution_count": 10,
   "id": "16b948cc-6edb-48c9-af8f-7df9125baf88",
   "metadata": {},
   "outputs": [
    {
     "data": {
      "text/plain": [
       "array(['M', 'F', 'D'], dtype=object)"
      ]
     },
     "execution_count": 10,
     "metadata": {},
     "output_type": "execute_result"
    }
   ],
   "source": [
    "df_customers['Gender'].unique()"
   ]
  },
  {
   "cell_type": "code",
   "execution_count": 11,
   "id": "3a9921d4-fbdf-4cb2-8966-4857bc12ec2c",
   "metadata": {},
   "outputs": [
    {
     "data": {
      "text/plain": [
       "array(['United States', '中国', 'Deutschland', 'United Kingdom', 'France',\n",
       "       'España', 'Portugal'], dtype=object)"
      ]
     },
     "execution_count": 11,
     "metadata": {},
     "output_type": "execute_result"
    }
   ],
   "source": [
    "df_customers['Country'].unique()"
   ]
  },
  {
   "cell_type": "code",
   "execution_count": null,
   "id": "a83f891f-7b9f-4077-a246-2ba9617d843b",
   "metadata": {},
   "outputs": [
    {
     "name": "stderr",
     "output_type": "stream",
     "text": [
      "/tmp/ipykernel_13792/2347565847.py:2: FutureWarning: A value is trying to be set on a copy of a DataFrame or Series through chained assignment using an inplace method.\n",
      "The behavior will change in pandas 3.0. This inplace method will never work because the intermediate object on which we are setting values always behaves as a copy.\n",
      "\n",
      "For example, when doing 'df[col].method(value, inplace=True)', try using 'df.method({col: value}, inplace=True)' or df[col] = df[col].method(value) instead, to perform the operation inplace on the original object.\n",
      "\n",
      "\n",
      "  df_customers['Country'].replace({'中国':'China', 'Deutschland':'Germany', 'España':'Spain'}, inplace=True)\n"
     ]
    }
   ],
   "source": [
    "# Renaming to China, Germany and Spain\n",
    "df_customers['Country'] = df_customers['Country'].replace({'中国':'China', 'Deutschland':'Germany', 'España':'Spain'})"
   ]
  },
  {
   "cell_type": "code",
   "execution_count": 13,
   "id": "ecddf24e-bacd-4106-a8f4-39878f77d46d",
   "metadata": {},
   "outputs": [
    {
     "data": {
      "text/plain": [
       "array(['United States', 'China', 'Germany', 'United Kingdom', 'France',\n",
       "       'Spain', 'Portugal'], dtype=object)"
      ]
     },
     "execution_count": 13,
     "metadata": {},
     "output_type": "execute_result"
    }
   ],
   "source": [
    "df_customers['Country'].unique()"
   ]
  },
  {
   "cell_type": "code",
   "execution_count": 14,
   "id": "0cc142a1-9264-4c33-8bbf-7cd5434f165a",
   "metadata": {
    "collapsed": true,
    "jupyter": {
     "outputs_hidden": true
    }
   },
   "outputs": [
    {
     "data": {
      "text/plain": [
       "array(['New York', 'Newark', 'Jersey City', 'Yonkers', 'White Plains',\n",
       "       'New Rochelle', 'Stamford', 'Bridgeport', 'Elizabeth', 'Paterson',\n",
       "       'Hempstead', 'Los Angeles', 'Long Beach', 'Anaheim', 'Santa Ana',\n",
       "       'Irvine', 'Glendale', 'Burbank', 'Pasadena', 'Torrance',\n",
       "       'Riverside', 'San Bernardino', 'Chicago', 'Aurora', 'Naperville',\n",
       "       'Evanston', 'Oak Park', 'Schaumburg', 'Joliet', 'Elgin', 'Cicero',\n",
       "       'Skokie', 'Arlington Heights', 'Houston', 'The Woodlands',\n",
       "       'Sugar Land', 'Pearland', 'Katy', 'Baytown', 'Pasadena (TX)',\n",
       "       'Missouri City', 'League City', 'Conroe', 'Galveston', 'Phoenix',\n",
       "       'Mesa', 'Scottsdale', 'Tempe', 'Glendale (AZ)', 'Chandler',\n",
       "       'Gilbert', 'Peoria (AZ)', 'Surprise', 'Avondale', 'Goodyear',\n",
       "       'San Francisco', 'Oakland', 'San Jose', 'Berkeley', 'Daly City',\n",
       "       'South San Francisco', 'Redwood City', 'Palo Alto',\n",
       "       'Mountain View', 'Fremont', 'Concord', 'Miami', 'Miami Beach',\n",
       "       'Hialeah', 'Fort Lauderdale', 'Coral Gables', 'Hollywood (FL)',\n",
       "       'Pembroke Pines', 'Boca Raton', 'West Palm Beach', 'Miramar',\n",
       "       'Davie', 'Seattle', 'Bellevue', 'Tacoma', 'Redmond', 'Kirkland',\n",
       "       'Renton', 'Everett', 'Kent', 'Federal Way', 'Bothell', 'Sammamish',\n",
       "       'Washington, D.C.', 'Arlington (VA)', 'Alexandria (VA)',\n",
       "       'Silver Spring (MD)', 'Bethesda (MD)', 'Rockville (MD)',\n",
       "       'Gaithersburg (MD)', 'Fairfax (VA)', 'Annandale (VA)',\n",
       "       'Tysons Corner', 'College Park (MD)', 'Boston', 'Cambridge',\n",
       "       'Somerville', 'Quincy', 'Newton', 'Brookline', 'Worcester',\n",
       "       'Lowell', 'Lawrence', 'Salem', 'Lynn', '上海', '浦东', '虹口', '宝山',\n",
       "       '闵行', '嘉定', '苏州（江苏省）', '昆山', '南通', '嘉兴', '杭州', '北京', '海淀', '朝阳',\n",
       "       '丰台', '通州', '石家庄', '天津', '廊坊', '保定', '承德', '张家口', '广州', '天河', '白云',\n",
       "       '越秀', '佛山', '东莞', '深圳', '中山', '珠海', '惠州', '清远', '福田', '南山', '宝安',\n",
       "       '龙岗', '香港', '澳门', '重庆', '渝中', '江北', '沙坪坝', '渝北', '涪陵', '万州', '黔江',\n",
       "       '大足', '璧山', '合川', '成都', '锦江', '青羊', '武侯', '龙泉驿', '双流', '德阳', '绵阳',\n",
       "       '乐山', '眉山', '资阳', '和平', '河东', '河西', '南开', '滨海', '唐山', '沧州', '秦皇岛',\n",
       "       '西安', '碑林', '莲湖', '新城', '雁塔', '长安', '咸阳', '渭南', '宝鸡', '铜川', '汉中',\n",
       "       '武汉', '江岸', '江汉', '硚口', '汉阳', '武昌', '黄陂', '新洲', '鄂州', '黄冈', '咸宁',\n",
       "       '苏州', '姑苏', '虎丘', '吴中', '相城', '常熟', '张家港', '太仓', '无锡', 'Berlin',\n",
       "       'Potsdam', 'Spandau', 'Charlottenburg', 'Friedrichshain',\n",
       "       'Kreuzberg', 'Lichtenberg', 'Marzahn', 'Treptow', 'Neukölln',\n",
       "       'Brandenburg an der Havel', 'Hamburg', 'Altona', 'Harburg',\n",
       "       'Eimsbüttel', 'Bergedorf', 'Norderstedt', 'Lübeck', 'Pinneberg',\n",
       "       'Quickborn', 'Ahrensburg', 'Wedel', 'München', 'Garching',\n",
       "       'Unterschleißheim', 'Neubiberg', 'Grünwald', 'Unterhaching',\n",
       "       'Ismaning', 'Germering', 'Olching', 'Gauting', 'Planegg', 'Köln',\n",
       "       'Leverkusen', 'Bergisch Gladbach', 'Brühl', 'Hürth', 'Frechen',\n",
       "       'Pulheim', 'Wesseling', 'Bornheim', 'Kerpen', 'Erftstadt',\n",
       "       'Frankfurt am Main', 'Offenbach', 'Wiesbaden', 'Mainz',\n",
       "       'Darmstadt', 'Bad Homburg', 'Oberursel', 'Kelkheim', 'Hofheim',\n",
       "       'Eschborn', 'Mörfelden-Walldorf', 'Stuttgart', 'Esslingen',\n",
       "       'Ludwigsburg', 'Böblingen', 'Fellbach', 'Leinfelden-Echterdingen',\n",
       "       'Ostfildern', 'Sindelfingen', 'Kornwestheim', 'Waiblingen',\n",
       "       'Göppingen', 'Düsseldorf', 'Neuss', 'Meerbusch', 'Ratingen',\n",
       "       'Erkrath', 'Hilden', 'Langenfeld', 'Monheim', 'Krefeld',\n",
       "       'Mettmann', 'Haan', 'Dortmund', 'Bochum', 'Hagen', 'Hamm', 'Unna',\n",
       "       'Lünen', 'Castrop-Rauxel', 'Schwerte', 'Witten', 'Herdecke',\n",
       "       'Iserlohn', 'Leipzig', 'Halle', 'Markkleeberg', 'Schkeuditz',\n",
       "       'Taucha', 'Böhlen', 'Zwenkau', 'Grimma', 'Wurzen', 'Delitzsch',\n",
       "       'Torgau', 'Hannover', 'Garbsen', 'Langenhagen', 'Laatzen',\n",
       "       'Sarstedt', 'Barsinghausen', 'Neustadt am Rübenberge', 'Springe',\n",
       "       'Hemmingen', 'Seelze', 'Pattensen', 'London', 'Westminster',\n",
       "       'Croydon', 'Greenwich', 'Camden', 'Islington', 'Lewisham',\n",
       "       'Hackney', 'Wandsworth', 'Reading', 'Slough', 'Birmingham',\n",
       "       'Solihull', 'Wolverhampton', 'Walsall', 'Dudley', 'Coventry',\n",
       "       'Sandwell', 'Tamworth', 'Redditch', 'Stourbridge', 'Halesowen',\n",
       "       'Manchester', 'Salford', 'Stockport', 'Trafford', 'Oldham',\n",
       "       'Rochdale', 'Bolton', 'Wigan', 'Bury', 'Altrincham', 'Sale',\n",
       "       'Glasgow', 'East Kilbride', 'Paisley', 'Clydebank', 'Motherwell',\n",
       "       'Airdrie', 'Hamilton', 'Cumbernauld', 'Kirkintilloch', 'Bearsden',\n",
       "       'Milngavie', 'Liverpool', 'Birkenhead', 'St Helens', 'Bootle',\n",
       "       'Southport', 'Huyton', 'Crosby', 'Formby', 'Prescot', 'Wallasey',\n",
       "       'Kirkby', 'Bristol', 'South Gloucestershire', 'Bath',\n",
       "       'Weston-super-Mare', 'Clevedon', 'Nailsea', 'Portishead',\n",
       "       'Keynsham', 'Bradley Stoke', 'Yate', 'Thornbury', 'Edinburgh',\n",
       "       'Musselburgh', 'Livingston', 'Dalkeith', 'Penicuik', 'Loanhead',\n",
       "       'South Queensferry', 'Bonnyrigg', 'Gorebridge', 'Tranent',\n",
       "       'Prestonpans', 'Leeds', 'Wakefield', 'Bradford', 'Huddersfield',\n",
       "       'Halifax', 'Harrogate', 'York', 'Pudsey', 'Morley', 'Guiseley',\n",
       "       'Otley', 'Cardiff', 'Newport', 'Barry', 'Pontypridd', 'Caerphilly',\n",
       "       'Bridgend', 'Merthyr Tydfil', 'Aberdâr', 'Penarth', 'Rhoose',\n",
       "       'Cowbridge', 'Belfast', 'Lisburn', 'Bangor', 'Newtownabbey',\n",
       "       'Carrickfergus', 'Holywood', 'Newtownards', 'Dundonald',\n",
       "       'Castlereagh', 'Antrim', 'Ballymena', 'Paris',\n",
       "       'Boulogne-Billancourt', 'Saint-Denis', 'Versailles', 'Nanterre',\n",
       "       'Créteil', 'Colombes', 'Asnières-sur-Seine', 'Courbevoie',\n",
       "       'Argenteuil', 'Montreuil', 'Marseille', 'Aix-en-Provence',\n",
       "       'Vitrolles', 'Marignane', 'Les Pennes-Mirabeau', 'Aubagne',\n",
       "       'La Ciotat', 'Allauch', 'Plan-de-Cuques', 'Gardanne', 'Cassis',\n",
       "       'Lyon', 'Villeurbanne', 'Vénissieux', 'Caluire-et-Cuire',\n",
       "       'Saint-Priest', 'Vaulx-en-Velin', 'Bron', 'Villefranche-sur-Saône',\n",
       "       'Écully', 'Décines-Charpieu', 'Oullins', 'Toulouse', 'Blagnac',\n",
       "       'Tournefeuille', 'Colomiers', 'Muret', 'Plaisance-du-Touch',\n",
       "       'Cugnaux', 'Balma', 'Ramonville-Saint-Agne', 'Castanet-Tolosan',\n",
       "       \"L'Union\", 'Nice', 'Cagnes-sur-Mer', 'Antibes', 'Cannes', 'Grasse',\n",
       "       'Vence', 'Saint-Laurent-du-Var', 'Menton', 'Villefranche-sur-Mer',\n",
       "       'Le Cannet', 'Mougins', 'Nantes', 'Saint-Herblain', 'Rezé',\n",
       "       'Saint-Nazaire', 'Orvault', 'Vertou', 'Couëron', 'Carquefou',\n",
       "       'La Chapelle-sur-Erdre', 'Bouguenais', 'Saint-Sébastien-sur-Loire',\n",
       "       'Montpellier', 'Lattes', 'Castelnau-le-Lez', 'Mauguio',\n",
       "       'Saint-Jean-de-Védas', 'Juvignac', 'Grabels', 'Pérols',\n",
       "       'Villeneuve-lès-Maguelone', 'Le Crès', 'Clapiers', 'Strasbourg',\n",
       "       'Schiltigheim', 'Illkirch-Graffenstaden', 'Haguenau',\n",
       "       'Lingolsheim', 'Bischheim', 'Ostwald', 'Hœnheim', 'Saverne',\n",
       "       'Obernai', 'Molsheim', 'Bordeaux', 'Mérignac', 'Pessac', 'Talence',\n",
       "       \"Villenave-d'Ornon\", 'Bègles', 'Gradignan', 'Cenon', 'Lormont',\n",
       "       'Le Bouscat', 'Blanquefort', 'Lille', 'Roubaix', 'Tourcoing',\n",
       "       \"Villeneuve-d'Ascq\", 'Wattrelos', 'Marcq-en-Barœul',\n",
       "       'La Madeleine', 'Lambersart', 'Loos', 'Seclin', 'Armentières',\n",
       "       'Madrid', 'Alcalá de Henares', 'Getafe', 'Leganés', 'Fuenlabrada',\n",
       "       'Móstoles', 'Alcobendas', 'Torrejón de Ardoz',\n",
       "       'Pozuelo de Alarcón', 'Las Rozas', 'Majadahonda', 'Barcelona',\n",
       "       \"L'Hospitalet de Llobregat\", 'Badalona',\n",
       "       'Santa Coloma de Gramenet', 'Terrassa', 'Sabadell', 'Mataró',\n",
       "       'Cornellà de Llobregat', 'Sant Boi de Llobregat', 'Rubí',\n",
       "       'Viladecans', 'Valencia', 'Torrent', 'Paterna', 'Mislata',\n",
       "       'Burjassot', 'Alboraya', 'Catarroja', 'Paiporta', 'Sedaví',\n",
       "       'Alaquàs', 'Manises', 'Sevilla', 'Dos Hermanas',\n",
       "       'Alcalá de Guadaíra', 'Utrera', 'Mairena del Aljarafe', 'Écija',\n",
       "       'Carmona', 'Coria del Río', 'Lebrija',\n",
       "       'Los Palacios y Villafranca', 'San Juan de Aznalfarache',\n",
       "       'Zaragoza', 'Utebo', 'La Almunia de Doña Godina',\n",
       "       'Cuarte de Huerva', 'Ejea de los Caballeros', 'Tarazona',\n",
       "       'Calatayud', 'Zuera', 'Alagón', 'Caspe', 'Tauste', 'Málaga',\n",
       "       'Marbella', 'Torremolinos', 'Fuengirola', 'Vélez-Málaga',\n",
       "       'Benalmádena', 'Estepona', 'Antequera', 'Rincón de la Victoria',\n",
       "       'Alhaurín de la Torre', 'Ronda', 'Murcia', 'Cartagena', 'Lorca',\n",
       "       'Molina de Segura', 'Alcantarilla', 'Cieza', 'Yecla', 'Águilas',\n",
       "       'San Javier', 'Caravaca de la Cruz', 'Totana', 'Palma de Mallorca',\n",
       "       'Calvià', 'Inca', 'Llucmajor', 'Manacor', 'Marratxí', 'Felanitx',\n",
       "       'Alcúdia', 'Sóller', 'Pollensa', 'Santanyí',\n",
       "       'Las Palmas de Gran Canaria', 'Telde', 'Santa Lucía de Tirajana',\n",
       "       'Arucas', 'Gáldar', 'Ingenio', 'Agüimes', 'Teror', 'Valsequillo',\n",
       "       'San Bartolomé de Tirajana', 'Mogán', 'Bilbao', 'Barakaldo',\n",
       "       'Getxo', 'Portugalete', 'Santurtzi', 'Basauri', 'Leioa',\n",
       "       'Galdakao', 'Durango', 'Erandio', 'Sestao', 'Alicante',\n",
       "       'San Vicente del Raspeig', 'El Campello', 'Denia', 'Benidorm',\n",
       "       'Orihuela', 'Elda', 'Alcoy', 'Torrevieja', 'Santa Pola', 'Villena',\n",
       "       'Córdoba', 'Lucena', 'Montilla', 'Puente Genil',\n",
       "       'Priego de Córdoba', 'Cabra', 'Baena', 'La Carlota',\n",
       "       'Palma del Río', 'Aguilar de la Frontera', 'Rute', 'Valladolid',\n",
       "       'Laguna de Duero', 'Medina del Campo', 'Tordesillas',\n",
       "       'Arroyo de la Encomienda', 'Peñafiel', 'Simancas', 'Portillo',\n",
       "       'Cigales', 'Santovenia de Pisuerga', 'Viana de Cega', 'Vigo',\n",
       "       'Pontevedra', 'Redondela', 'O Porriño', 'Marín', 'Moaña', 'Cangas',\n",
       "       'Nigrán', 'Baiona', 'Tui', 'Gondomar (España)', 'Gijón', 'Oviedo',\n",
       "       'Avilés', 'Siero', 'Langreo', 'Mieres', 'Corvera de Asturias',\n",
       "       'Carreño', 'Llanera', 'Villaviciosa', 'Gozón', 'Lisboa', 'Amadora',\n",
       "       'Oeiras', 'Loures', 'Odivelas', 'Cascais', 'Almada', 'Seixal',\n",
       "       'Vila Franca de Xira', 'Barreiro', 'Sintra', 'Mafra',\n",
       "       'Torres Vedras', 'Vila Nova de Gaia', 'Porto', 'Matosinhos',\n",
       "       'Gondomar', 'Espinho', 'Maia', 'Santa Maria da Feira', 'Valongo',\n",
       "       'São João da Madeira', 'Oliveira de Azeméis', 'Ovar', 'Braga',\n",
       "       'Guimarães', 'Barcelos', 'Famalicão', 'Vila Verde', 'Fafe',\n",
       "       'Esposende', 'Póvoa de Lanhoso', 'Vizela', 'Trofa', 'Santo Tirso',\n",
       "       'Sesimbra', 'Moita', 'Setúbal', 'Montijo', 'Palmela',\n",
       "       'Póvoa de Varzim', 'Vila do Conde', 'Felgueiras',\n",
       "       'Cabeceiras de Basto', 'Coimbra', 'Condeixa-a-Nova', 'Mealhada',\n",
       "       'Montemor-o-Velho', 'Figueira da Foz', 'Pombal', 'Cantanhede',\n",
       "       'Arganil', 'Lousã', 'Penacova', 'Tábua', 'Paredes', 'Alenquer',\n",
       "       'Arruda dos Vinhos'], dtype=object)"
      ]
     },
     "execution_count": 14,
     "metadata": {},
     "output_type": "execute_result"
    }
   ],
   "source": [
    "df_customers['City'].unique()"
   ]
  },
  {
   "cell_type": "code",
   "execution_count": null,
   "id": "43a39638-600b-4fdd-b8a6-8680e26daaab",
   "metadata": {
    "collapsed": true,
    "jupyter": {
     "outputs_hidden": true
    },
    "scrolled": true
   },
   "outputs": [],
   "source": [
    "# Renaming all China cities writen in chinese\n",
    "df_customers['City'] = df_customers['City'] \\\n",
    "    .replace({'上海':'Shangai', '浦东':'Pudong', '虹口':'Hongkou',\n",
    "              '宝山':'Baoshan', '闵行':'Minhang', '嘉定':'Jiading', '苏州（江苏省）':'Suzhou', '昆山':'Kunshan', '南通':'Nantong',\n",
    "              '嘉兴':'Jiaxing', '杭州':'Hangzhou', '北京':'Beijing', '海淀':'Haidian', '朝阳':'Zhāo yáng', '丰台':'Fengtai', '通州':'Tongzhou',\n",
    "              '石家庄': 'Shijiazhuang', '天津': 'Tianjin', '廊坊': 'Langfang', '保定': 'Baoding', '承德': 'Chengde', '张家口': 'Zhangjiakou',\n",
    "    '广州': 'Guangzhou', '天河': 'Tianhe', '白云': 'Baiyun', '越秀': 'Yuexiu', '佛山': 'Foshan', '东莞': 'Dongguan', '深圳': 'Shenzhen',\n",
    "    '中山': 'Zhongshan', '珠海': 'Zhuhai', '惠州': 'Huizhou', '清远': 'Qingyuan', '福田': 'Futian', '南山': 'Nanshan', '宝安': 'Baoan',\n",
    "    '龙岗': 'Longgang', '香港': 'Hong Kong', '澳门': 'Macau', '重庆': 'Chongqing', '渝中': 'Yuzhong', '江北': 'Jiangbei',\n",
    "    '沙坪坝': 'Shapingba', '渝北': 'Yubei', '涪陵': 'Fuling', '万州': 'Wanzhou', '黔江': 'Qianjiang', '大足': 'Dazu',\n",
    "    '璧山': 'Bishan', '合川': 'Hechuan', '成都': 'Chengdu', '锦江': 'Jinjiang', '青羊': 'Qingyang', '武侯': 'Wuhou',\n",
    "    '龙泉驿': 'Longquanyi', '双流': 'Shuangliu', '德阳': 'Deyang', '绵阳': 'Mianyang', '乐山': 'Leshan', '眉山': 'Meishan',\n",
    "    '资阳': 'Ziyang', '和平': 'Heping', '河东': 'Hedong', '河西': 'Hexi', '南开': 'Nankai', '滨海': 'Binhai', '唐山': 'Tangshan',\n",
    "    '沧州': 'Cangzhou', '秦皇岛': 'Qinhuangdao', '西安': 'Xi’an', '碑林': 'Beilin', '莲湖': 'Lianhu', '新城': 'Xincheng',\n",
    "    '雁塔': 'Yanta', '长安': 'Chang’an', '咸阳': 'Xianyang', '渭南': 'Weinan', '宝鸡': 'Baoji', '铜川': 'Tongchuan',\n",
    "    '汉中': 'Hanzhong', '武汉': 'Wuhan', '江岸': 'Jiangan', '江汉': 'Jianghan', '硚口': 'Qiaokou', '汉阳': 'Hanyang',\n",
    "    '武昌': 'Wuchang', '黄陂': 'Huangpi', '新洲': 'Xinzhou', '鄂州': 'Ezhou', '黄冈': 'Huanggang', '咸宁': 'Xianning',\n",
    "    '苏州': 'Suzhou', '姑苏': 'Gusu', '虎丘': 'Huqiu', '吴中': 'Wuzhong', '相城': 'Xiangcheng', '常熟': 'Changshu',\n",
    "    '张家港': 'Zhangjiagang', '太仓': 'Taicang', '无锡': 'Wuxi'})"
   ]
  },
  {
   "cell_type": "code",
   "execution_count": 16,
   "id": "d4782ed6-16a6-4fb0-8e7f-27e2cfa4e70e",
   "metadata": {
    "collapsed": true,
    "jupyter": {
     "outputs_hidden": true
    }
   },
   "outputs": [
    {
     "data": {
      "text/plain": [
       "array(['New York', 'Newark', 'Jersey City', 'Yonkers', 'White Plains',\n",
       "       'New Rochelle', 'Stamford', 'Bridgeport', 'Elizabeth', 'Paterson',\n",
       "       'Hempstead', 'Los Angeles', 'Long Beach', 'Anaheim', 'Santa Ana',\n",
       "       'Irvine', 'Glendale', 'Burbank', 'Pasadena', 'Torrance',\n",
       "       'Riverside', 'San Bernardino', 'Chicago', 'Aurora', 'Naperville',\n",
       "       'Evanston', 'Oak Park', 'Schaumburg', 'Joliet', 'Elgin', 'Cicero',\n",
       "       'Skokie', 'Arlington Heights', 'Houston', 'The Woodlands',\n",
       "       'Sugar Land', 'Pearland', 'Katy', 'Baytown', 'Pasadena (TX)',\n",
       "       'Missouri City', 'League City', 'Conroe', 'Galveston', 'Phoenix',\n",
       "       'Mesa', 'Scottsdale', 'Tempe', 'Glendale (AZ)', 'Chandler',\n",
       "       'Gilbert', 'Peoria (AZ)', 'Surprise', 'Avondale', 'Goodyear',\n",
       "       'San Francisco', 'Oakland', 'San Jose', 'Berkeley', 'Daly City',\n",
       "       'South San Francisco', 'Redwood City', 'Palo Alto',\n",
       "       'Mountain View', 'Fremont', 'Concord', 'Miami', 'Miami Beach',\n",
       "       'Hialeah', 'Fort Lauderdale', 'Coral Gables', 'Hollywood (FL)',\n",
       "       'Pembroke Pines', 'Boca Raton', 'West Palm Beach', 'Miramar',\n",
       "       'Davie', 'Seattle', 'Bellevue', 'Tacoma', 'Redmond', 'Kirkland',\n",
       "       'Renton', 'Everett', 'Kent', 'Federal Way', 'Bothell', 'Sammamish',\n",
       "       'Washington, D.C.', 'Arlington (VA)', 'Alexandria (VA)',\n",
       "       'Silver Spring (MD)', 'Bethesda (MD)', 'Rockville (MD)',\n",
       "       'Gaithersburg (MD)', 'Fairfax (VA)', 'Annandale (VA)',\n",
       "       'Tysons Corner', 'College Park (MD)', 'Boston', 'Cambridge',\n",
       "       'Somerville', 'Quincy', 'Newton', 'Brookline', 'Worcester',\n",
       "       'Lowell', 'Lawrence', 'Salem', 'Lynn', 'Shangai', 'Pudong',\n",
       "       'Hongkou', 'Baoshan', 'Minhang', 'Jiading', 'Suzhou', 'Kunshan',\n",
       "       'Nantong', 'Jiaxing', 'Hangzhou', 'Beijing', 'Haidian',\n",
       "       'Zhāo yáng', 'Fengtai', 'Tongzhou', 'Shijiazhuang', 'Tianjin',\n",
       "       'Langfang', 'Baoding', 'Chengde', 'Zhangjiakou', 'Guangzhou',\n",
       "       'Tianhe', 'Baiyun', 'Yuexiu', 'Foshan', 'Dongguan', 'Shenzhen',\n",
       "       'Zhongshan', 'Zhuhai', 'Huizhou', 'Qingyuan', 'Futian', 'Nanshan',\n",
       "       'Baoan', 'Longgang', 'Hong Kong', 'Macau', 'Chongqing', 'Yuzhong',\n",
       "       'Jiangbei', 'Shapingba', 'Yubei', 'Fuling', 'Wanzhou', 'Qianjiang',\n",
       "       'Dazu', 'Bishan', 'Hechuan', 'Chengdu', 'Jinjiang', 'Qingyang',\n",
       "       'Wuhou', 'Longquanyi', 'Shuangliu', 'Deyang', 'Mianyang', 'Leshan',\n",
       "       'Meishan', 'Ziyang', 'Heping', 'Hedong', 'Hexi', 'Nankai',\n",
       "       'Binhai', 'Tangshan', 'Cangzhou', 'Qinhuangdao', 'Xi’an', 'Beilin',\n",
       "       'Lianhu', 'Xincheng', 'Yanta', 'Chang’an', 'Xianyang', 'Weinan',\n",
       "       'Baoji', 'Tongchuan', 'Hanzhong', 'Wuhan', 'Jiangan', 'Jianghan',\n",
       "       'Qiaokou', 'Hanyang', 'Wuchang', 'Huangpi', 'Xinzhou', 'Ezhou',\n",
       "       'Huanggang', 'Xianning', 'Gusu', 'Huqiu', 'Wuzhong', 'Xiangcheng',\n",
       "       'Changshu', 'Zhangjiagang', 'Taicang', 'Wuxi', 'Berlin', 'Potsdam',\n",
       "       'Spandau', 'Charlottenburg', 'Friedrichshain', 'Kreuzberg',\n",
       "       'Lichtenberg', 'Marzahn', 'Treptow', 'Neukölln',\n",
       "       'Brandenburg an der Havel', 'Hamburg', 'Altona', 'Harburg',\n",
       "       'Eimsbüttel', 'Bergedorf', 'Norderstedt', 'Lübeck', 'Pinneberg',\n",
       "       'Quickborn', 'Ahrensburg', 'Wedel', 'München', 'Garching',\n",
       "       'Unterschleißheim', 'Neubiberg', 'Grünwald', 'Unterhaching',\n",
       "       'Ismaning', 'Germering', 'Olching', 'Gauting', 'Planegg', 'Köln',\n",
       "       'Leverkusen', 'Bergisch Gladbach', 'Brühl', 'Hürth', 'Frechen',\n",
       "       'Pulheim', 'Wesseling', 'Bornheim', 'Kerpen', 'Erftstadt',\n",
       "       'Frankfurt am Main', 'Offenbach', 'Wiesbaden', 'Mainz',\n",
       "       'Darmstadt', 'Bad Homburg', 'Oberursel', 'Kelkheim', 'Hofheim',\n",
       "       'Eschborn', 'Mörfelden-Walldorf', 'Stuttgart', 'Esslingen',\n",
       "       'Ludwigsburg', 'Böblingen', 'Fellbach', 'Leinfelden-Echterdingen',\n",
       "       'Ostfildern', 'Sindelfingen', 'Kornwestheim', 'Waiblingen',\n",
       "       'Göppingen', 'Düsseldorf', 'Neuss', 'Meerbusch', 'Ratingen',\n",
       "       'Erkrath', 'Hilden', 'Langenfeld', 'Monheim', 'Krefeld',\n",
       "       'Mettmann', 'Haan', 'Dortmund', 'Bochum', 'Hagen', 'Hamm', 'Unna',\n",
       "       'Lünen', 'Castrop-Rauxel', 'Schwerte', 'Witten', 'Herdecke',\n",
       "       'Iserlohn', 'Leipzig', 'Halle', 'Markkleeberg', 'Schkeuditz',\n",
       "       'Taucha', 'Böhlen', 'Zwenkau', 'Grimma', 'Wurzen', 'Delitzsch',\n",
       "       'Torgau', 'Hannover', 'Garbsen', 'Langenhagen', 'Laatzen',\n",
       "       'Sarstedt', 'Barsinghausen', 'Neustadt am Rübenberge', 'Springe',\n",
       "       'Hemmingen', 'Seelze', 'Pattensen', 'London', 'Westminster',\n",
       "       'Croydon', 'Greenwich', 'Camden', 'Islington', 'Lewisham',\n",
       "       'Hackney', 'Wandsworth', 'Reading', 'Slough', 'Birmingham',\n",
       "       'Solihull', 'Wolverhampton', 'Walsall', 'Dudley', 'Coventry',\n",
       "       'Sandwell', 'Tamworth', 'Redditch', 'Stourbridge', 'Halesowen',\n",
       "       'Manchester', 'Salford', 'Stockport', 'Trafford', 'Oldham',\n",
       "       'Rochdale', 'Bolton', 'Wigan', 'Bury', 'Altrincham', 'Sale',\n",
       "       'Glasgow', 'East Kilbride', 'Paisley', 'Clydebank', 'Motherwell',\n",
       "       'Airdrie', 'Hamilton', 'Cumbernauld', 'Kirkintilloch', 'Bearsden',\n",
       "       'Milngavie', 'Liverpool', 'Birkenhead', 'St Helens', 'Bootle',\n",
       "       'Southport', 'Huyton', 'Crosby', 'Formby', 'Prescot', 'Wallasey',\n",
       "       'Kirkby', 'Bristol', 'South Gloucestershire', 'Bath',\n",
       "       'Weston-super-Mare', 'Clevedon', 'Nailsea', 'Portishead',\n",
       "       'Keynsham', 'Bradley Stoke', 'Yate', 'Thornbury', 'Edinburgh',\n",
       "       'Musselburgh', 'Livingston', 'Dalkeith', 'Penicuik', 'Loanhead',\n",
       "       'South Queensferry', 'Bonnyrigg', 'Gorebridge', 'Tranent',\n",
       "       'Prestonpans', 'Leeds', 'Wakefield', 'Bradford', 'Huddersfield',\n",
       "       'Halifax', 'Harrogate', 'York', 'Pudsey', 'Morley', 'Guiseley',\n",
       "       'Otley', 'Cardiff', 'Newport', 'Barry', 'Pontypridd', 'Caerphilly',\n",
       "       'Bridgend', 'Merthyr Tydfil', 'Aberdâr', 'Penarth', 'Rhoose',\n",
       "       'Cowbridge', 'Belfast', 'Lisburn', 'Bangor', 'Newtownabbey',\n",
       "       'Carrickfergus', 'Holywood', 'Newtownards', 'Dundonald',\n",
       "       'Castlereagh', 'Antrim', 'Ballymena', 'Paris',\n",
       "       'Boulogne-Billancourt', 'Saint-Denis', 'Versailles', 'Nanterre',\n",
       "       'Créteil', 'Colombes', 'Asnières-sur-Seine', 'Courbevoie',\n",
       "       'Argenteuil', 'Montreuil', 'Marseille', 'Aix-en-Provence',\n",
       "       'Vitrolles', 'Marignane', 'Les Pennes-Mirabeau', 'Aubagne',\n",
       "       'La Ciotat', 'Allauch', 'Plan-de-Cuques', 'Gardanne', 'Cassis',\n",
       "       'Lyon', 'Villeurbanne', 'Vénissieux', 'Caluire-et-Cuire',\n",
       "       'Saint-Priest', 'Vaulx-en-Velin', 'Bron', 'Villefranche-sur-Saône',\n",
       "       'Écully', 'Décines-Charpieu', 'Oullins', 'Toulouse', 'Blagnac',\n",
       "       'Tournefeuille', 'Colomiers', 'Muret', 'Plaisance-du-Touch',\n",
       "       'Cugnaux', 'Balma', 'Ramonville-Saint-Agne', 'Castanet-Tolosan',\n",
       "       \"L'Union\", 'Nice', 'Cagnes-sur-Mer', 'Antibes', 'Cannes', 'Grasse',\n",
       "       'Vence', 'Saint-Laurent-du-Var', 'Menton', 'Villefranche-sur-Mer',\n",
       "       'Le Cannet', 'Mougins', 'Nantes', 'Saint-Herblain', 'Rezé',\n",
       "       'Saint-Nazaire', 'Orvault', 'Vertou', 'Couëron', 'Carquefou',\n",
       "       'La Chapelle-sur-Erdre', 'Bouguenais', 'Saint-Sébastien-sur-Loire',\n",
       "       'Montpellier', 'Lattes', 'Castelnau-le-Lez', 'Mauguio',\n",
       "       'Saint-Jean-de-Védas', 'Juvignac', 'Grabels', 'Pérols',\n",
       "       'Villeneuve-lès-Maguelone', 'Le Crès', 'Clapiers', 'Strasbourg',\n",
       "       'Schiltigheim', 'Illkirch-Graffenstaden', 'Haguenau',\n",
       "       'Lingolsheim', 'Bischheim', 'Ostwald', 'Hœnheim', 'Saverne',\n",
       "       'Obernai', 'Molsheim', 'Bordeaux', 'Mérignac', 'Pessac', 'Talence',\n",
       "       \"Villenave-d'Ornon\", 'Bègles', 'Gradignan', 'Cenon', 'Lormont',\n",
       "       'Le Bouscat', 'Blanquefort', 'Lille', 'Roubaix', 'Tourcoing',\n",
       "       \"Villeneuve-d'Ascq\", 'Wattrelos', 'Marcq-en-Barœul',\n",
       "       'La Madeleine', 'Lambersart', 'Loos', 'Seclin', 'Armentières',\n",
       "       'Madrid', 'Alcalá de Henares', 'Getafe', 'Leganés', 'Fuenlabrada',\n",
       "       'Móstoles', 'Alcobendas', 'Torrejón de Ardoz',\n",
       "       'Pozuelo de Alarcón', 'Las Rozas', 'Majadahonda', 'Barcelona',\n",
       "       \"L'Hospitalet de Llobregat\", 'Badalona',\n",
       "       'Santa Coloma de Gramenet', 'Terrassa', 'Sabadell', 'Mataró',\n",
       "       'Cornellà de Llobregat', 'Sant Boi de Llobregat', 'Rubí',\n",
       "       'Viladecans', 'Valencia', 'Torrent', 'Paterna', 'Mislata',\n",
       "       'Burjassot', 'Alboraya', 'Catarroja', 'Paiporta', 'Sedaví',\n",
       "       'Alaquàs', 'Manises', 'Sevilla', 'Dos Hermanas',\n",
       "       'Alcalá de Guadaíra', 'Utrera', 'Mairena del Aljarafe', 'Écija',\n",
       "       'Carmona', 'Coria del Río', 'Lebrija',\n",
       "       'Los Palacios y Villafranca', 'San Juan de Aznalfarache',\n",
       "       'Zaragoza', 'Utebo', 'La Almunia de Doña Godina',\n",
       "       'Cuarte de Huerva', 'Ejea de los Caballeros', 'Tarazona',\n",
       "       'Calatayud', 'Zuera', 'Alagón', 'Caspe', 'Tauste', 'Málaga',\n",
       "       'Marbella', 'Torremolinos', 'Fuengirola', 'Vélez-Málaga',\n",
       "       'Benalmádena', 'Estepona', 'Antequera', 'Rincón de la Victoria',\n",
       "       'Alhaurín de la Torre', 'Ronda', 'Murcia', 'Cartagena', 'Lorca',\n",
       "       'Molina de Segura', 'Alcantarilla', 'Cieza', 'Yecla', 'Águilas',\n",
       "       'San Javier', 'Caravaca de la Cruz', 'Totana', 'Palma de Mallorca',\n",
       "       'Calvià', 'Inca', 'Llucmajor', 'Manacor', 'Marratxí', 'Felanitx',\n",
       "       'Alcúdia', 'Sóller', 'Pollensa', 'Santanyí',\n",
       "       'Las Palmas de Gran Canaria', 'Telde', 'Santa Lucía de Tirajana',\n",
       "       'Arucas', 'Gáldar', 'Ingenio', 'Agüimes', 'Teror', 'Valsequillo',\n",
       "       'San Bartolomé de Tirajana', 'Mogán', 'Bilbao', 'Barakaldo',\n",
       "       'Getxo', 'Portugalete', 'Santurtzi', 'Basauri', 'Leioa',\n",
       "       'Galdakao', 'Durango', 'Erandio', 'Sestao', 'Alicante',\n",
       "       'San Vicente del Raspeig', 'El Campello', 'Denia', 'Benidorm',\n",
       "       'Orihuela', 'Elda', 'Alcoy', 'Torrevieja', 'Santa Pola', 'Villena',\n",
       "       'Córdoba', 'Lucena', 'Montilla', 'Puente Genil',\n",
       "       'Priego de Córdoba', 'Cabra', 'Baena', 'La Carlota',\n",
       "       'Palma del Río', 'Aguilar de la Frontera', 'Rute', 'Valladolid',\n",
       "       'Laguna de Duero', 'Medina del Campo', 'Tordesillas',\n",
       "       'Arroyo de la Encomienda', 'Peñafiel', 'Simancas', 'Portillo',\n",
       "       'Cigales', 'Santovenia de Pisuerga', 'Viana de Cega', 'Vigo',\n",
       "       'Pontevedra', 'Redondela', 'O Porriño', 'Marín', 'Moaña', 'Cangas',\n",
       "       'Nigrán', 'Baiona', 'Tui', 'Gondomar (España)', 'Gijón', 'Oviedo',\n",
       "       'Avilés', 'Siero', 'Langreo', 'Mieres', 'Corvera de Asturias',\n",
       "       'Carreño', 'Llanera', 'Villaviciosa', 'Gozón', 'Lisboa', 'Amadora',\n",
       "       'Oeiras', 'Loures', 'Odivelas', 'Cascais', 'Almada', 'Seixal',\n",
       "       'Vila Franca de Xira', 'Barreiro', 'Sintra', 'Mafra',\n",
       "       'Torres Vedras', 'Vila Nova de Gaia', 'Porto', 'Matosinhos',\n",
       "       'Gondomar', 'Espinho', 'Maia', 'Santa Maria da Feira', 'Valongo',\n",
       "       'São João da Madeira', 'Oliveira de Azeméis', 'Ovar', 'Braga',\n",
       "       'Guimarães', 'Barcelos', 'Famalicão', 'Vila Verde', 'Fafe',\n",
       "       'Esposende', 'Póvoa de Lanhoso', 'Vizela', 'Trofa', 'Santo Tirso',\n",
       "       'Sesimbra', 'Moita', 'Setúbal', 'Montijo', 'Palmela',\n",
       "       'Póvoa de Varzim', 'Vila do Conde', 'Felgueiras',\n",
       "       'Cabeceiras de Basto', 'Coimbra', 'Condeixa-a-Nova', 'Mealhada',\n",
       "       'Montemor-o-Velho', 'Figueira da Foz', 'Pombal', 'Cantanhede',\n",
       "       'Arganil', 'Lousã', 'Penacova', 'Tábua', 'Paredes', 'Alenquer',\n",
       "       'Arruda dos Vinhos'], dtype=object)"
      ]
     },
     "execution_count": 16,
     "metadata": {},
     "output_type": "execute_result"
    }
   ],
   "source": [
    "df_customers['City'].unique()"
   ]
  },
  {
   "cell_type": "markdown",
   "id": "ceb5dfd4-42b5-4079-9dab-e9b4771c4f4c",
   "metadata": {},
   "source": [
    "LOADING IN THE EMPLOYEE DATA"
   ]
  },
  {
   "cell_type": "code",
   "execution_count": 17,
   "id": "e97923f8-5d76-4228-953f-72ea3bc43cbe",
   "metadata": {},
   "outputs": [],
   "source": [
    "df_employee = pd.read_csv(\"dataset/raw/employees.csv\")"
   ]
  },
  {
   "cell_type": "code",
   "execution_count": 18,
   "id": "201fb707-d4b0-44da-9bcb-b62aa81ffb45",
   "metadata": {},
   "outputs": [
    {
     "data": {
      "text/html": [
       "<div>\n",
       "<style scoped>\n",
       "    .dataframe tbody tr th:only-of-type {\n",
       "        vertical-align: middle;\n",
       "    }\n",
       "\n",
       "    .dataframe tbody tr th {\n",
       "        vertical-align: top;\n",
       "    }\n",
       "\n",
       "    .dataframe thead th {\n",
       "        text-align: right;\n",
       "    }\n",
       "</style>\n",
       "<table border=\"1\" class=\"dataframe\">\n",
       "  <thead>\n",
       "    <tr style=\"text-align: right;\">\n",
       "      <th></th>\n",
       "      <th>Employee ID</th>\n",
       "      <th>Store ID</th>\n",
       "      <th>Name</th>\n",
       "      <th>Position</th>\n",
       "    </tr>\n",
       "  </thead>\n",
       "  <tbody>\n",
       "    <tr>\n",
       "      <th>0</th>\n",
       "      <td>1</td>\n",
       "      <td>1</td>\n",
       "      <td>Stephen Johnson</td>\n",
       "      <td>Store Manager</td>\n",
       "    </tr>\n",
       "    <tr>\n",
       "      <th>1</th>\n",
       "      <td>2</td>\n",
       "      <td>1</td>\n",
       "      <td>Rebecca Myers</td>\n",
       "      <td>Assistant Manager</td>\n",
       "    </tr>\n",
       "    <tr>\n",
       "      <th>2</th>\n",
       "      <td>3</td>\n",
       "      <td>1</td>\n",
       "      <td>Katherine Buchanan</td>\n",
       "      <td>Cashier</td>\n",
       "    </tr>\n",
       "    <tr>\n",
       "      <th>3</th>\n",
       "      <td>4</td>\n",
       "      <td>1</td>\n",
       "      <td>Jessica Hicks</td>\n",
       "      <td>Stock Clerk</td>\n",
       "    </tr>\n",
       "    <tr>\n",
       "      <th>4</th>\n",
       "      <td>5</td>\n",
       "      <td>1</td>\n",
       "      <td>Ryan Gross</td>\n",
       "      <td>Sales Associate</td>\n",
       "    </tr>\n",
       "  </tbody>\n",
       "</table>\n",
       "</div>"
      ],
      "text/plain": [
       "   Employee ID  Store ID                Name           Position\n",
       "0            1         1     Stephen Johnson      Store Manager\n",
       "1            2         1       Rebecca Myers  Assistant Manager\n",
       "2            3         1  Katherine Buchanan            Cashier\n",
       "3            4         1       Jessica Hicks        Stock Clerk\n",
       "4            5         1          Ryan Gross    Sales Associate"
      ]
     },
     "execution_count": 18,
     "metadata": {},
     "output_type": "execute_result"
    }
   ],
   "source": [
    "df_employee.head()"
   ]
  },
  {
   "cell_type": "code",
   "execution_count": 19,
   "id": "8220ad62-6f5c-42e0-b179-d2b8690f7cd0",
   "metadata": {},
   "outputs": [
    {
     "name": "stdout",
     "output_type": "stream",
     "text": [
      "<class 'pandas.core.frame.DataFrame'>\n",
      "RangeIndex: 404 entries, 0 to 403\n",
      "Data columns (total 4 columns):\n",
      " #   Column       Non-Null Count  Dtype \n",
      "---  ------       --------------  ----- \n",
      " 0   Employee ID  404 non-null    int64 \n",
      " 1   Store ID     404 non-null    int64 \n",
      " 2   Name         404 non-null    object\n",
      " 3   Position     404 non-null    object\n",
      "dtypes: int64(2), object(2)\n",
      "memory usage: 12.8+ KB\n"
     ]
    }
   ],
   "source": [
    "df_employee.info()"
   ]
  },
  {
   "cell_type": "code",
   "execution_count": 20,
   "id": "38cddd77-f046-4c11-88fe-284b46334baa",
   "metadata": {},
   "outputs": [],
   "source": [
    "# Changed employee and store IDs datatype to string\n",
    "df_employee['Employee ID'] = df_employee['Employee ID'].astype(str)\n",
    "df_employee['Store ID'] = df_employee['Store ID'].astype(str)"
   ]
  },
  {
   "cell_type": "code",
   "execution_count": 21,
   "id": "b9e89944-c3fe-4e4f-a0b8-adc142fd4244",
   "metadata": {},
   "outputs": [
    {
     "name": "stdout",
     "output_type": "stream",
     "text": [
      "<class 'pandas.core.frame.DataFrame'>\n",
      "RangeIndex: 404 entries, 0 to 403\n",
      "Data columns (total 4 columns):\n",
      " #   Column       Non-Null Count  Dtype \n",
      "---  ------       --------------  ----- \n",
      " 0   Employee ID  404 non-null    object\n",
      " 1   Store ID     404 non-null    object\n",
      " 2   Name         404 non-null    object\n",
      " 3   Position     404 non-null    object\n",
      "dtypes: object(4)\n",
      "memory usage: 12.8+ KB\n"
     ]
    }
   ],
   "source": [
    "df_employee.info()"
   ]
  },
  {
   "cell_type": "markdown",
   "id": "7a107926-b559-41ed-8c42-8b3ed1900700",
   "metadata": {},
   "source": [
    "LOADING IN THE PRODUCTS DATA"
   ]
  },
  {
   "cell_type": "code",
   "execution_count": 22,
   "id": "19e33f2a-11c0-4d46-abd5-16bcbebc9178",
   "metadata": {},
   "outputs": [],
   "source": [
    "df_product = pd.read_csv(\"dataset/raw/products.csv\")"
   ]
  },
  {
   "cell_type": "code",
   "execution_count": 23,
   "id": "076814cd-08d1-49cd-a170-1f7b673c60e1",
   "metadata": {},
   "outputs": [
    {
     "data": {
      "text/html": [
       "<div>\n",
       "<style scoped>\n",
       "    .dataframe tbody tr th:only-of-type {\n",
       "        vertical-align: middle;\n",
       "    }\n",
       "\n",
       "    .dataframe tbody tr th {\n",
       "        vertical-align: top;\n",
       "    }\n",
       "\n",
       "    .dataframe thead th {\n",
       "        text-align: right;\n",
       "    }\n",
       "</style>\n",
       "<table border=\"1\" class=\"dataframe\">\n",
       "  <thead>\n",
       "    <tr style=\"text-align: right;\">\n",
       "      <th></th>\n",
       "      <th>Product ID</th>\n",
       "      <th>Category</th>\n",
       "      <th>Sub Category</th>\n",
       "      <th>Description PT</th>\n",
       "      <th>Description DE</th>\n",
       "      <th>Description FR</th>\n",
       "      <th>Description ES</th>\n",
       "      <th>Description EN</th>\n",
       "      <th>Description ZH</th>\n",
       "      <th>Color</th>\n",
       "      <th>Sizes</th>\n",
       "      <th>Production Cost</th>\n",
       "    </tr>\n",
       "  </thead>\n",
       "  <tbody>\n",
       "    <tr>\n",
       "      <th>0</th>\n",
       "      <td>1</td>\n",
       "      <td>Feminine</td>\n",
       "      <td>Coats and Blazers</td>\n",
       "      <td>Esportivo Veludo Verde Com Botões</td>\n",
       "      <td>Sport Samt Sport Mit Knöpfen</td>\n",
       "      <td>Sports Velvet Sports Avec Des Boutons</td>\n",
       "      <td>Deportes De Terciopelo Con Botones</td>\n",
       "      <td>Sports Velvet Sports With Buttons</td>\n",
       "      <td>运动天鹅绒运动与按钮</td>\n",
       "      <td>NaN</td>\n",
       "      <td>S|M|L|XL</td>\n",
       "      <td>10.73</td>\n",
       "    </tr>\n",
       "    <tr>\n",
       "      <th>1</th>\n",
       "      <td>2</td>\n",
       "      <td>Feminine</td>\n",
       "      <td>Sweaters and Knitwear</td>\n",
       "      <td>Luxuoso Denim Rosa Com Botões</td>\n",
       "      <td>Luxuriöser Rosa Jeans Mit Knöpfen</td>\n",
       "      <td>Léchard De Denim Rose Avec Boutons</td>\n",
       "      <td>Denim Rosa Lujoso Con Botones</td>\n",
       "      <td>Luxurious Pink Denim With Buttons</td>\n",
       "      <td>豪华的粉红色牛仔布和纽扣</td>\n",
       "      <td>PINK</td>\n",
       "      <td>S|M|L|XL</td>\n",
       "      <td>19.55</td>\n",
       "    </tr>\n",
       "    <tr>\n",
       "      <th>2</th>\n",
       "      <td>3</td>\n",
       "      <td>Feminine</td>\n",
       "      <td>Dresses and Jumpsuits</td>\n",
       "      <td>Retrô Tricot Preto Estampado</td>\n",
       "      <td>Black Tricot Gedruckter Tricot</td>\n",
       "      <td>Tricot Imprimé En Tricot Noir</td>\n",
       "      <td>Tricot Negro Tricot Impreso</td>\n",
       "      <td>Black Tricot Printed Tricot</td>\n",
       "      <td>黑色三角形印刷三角形</td>\n",
       "      <td>BLACK</td>\n",
       "      <td>S|M|L|XL</td>\n",
       "      <td>25.59</td>\n",
       "    </tr>\n",
       "    <tr>\n",
       "      <th>3</th>\n",
       "      <td>4</td>\n",
       "      <td>Feminine</td>\n",
       "      <td>Shirts and Blouses</td>\n",
       "      <td>Blusa De Algodão Básica</td>\n",
       "      <td>Basis -Baumwollbluse</td>\n",
       "      <td>Chemisier En Coton De Base</td>\n",
       "      <td>Blusa De Algodón</td>\n",
       "      <td>Basic Cotton Blouse</td>\n",
       "      <td>基本的棉衬衫</td>\n",
       "      <td>NaN</td>\n",
       "      <td>S|M|L|XL</td>\n",
       "      <td>27.62</td>\n",
       "    </tr>\n",
       "    <tr>\n",
       "      <th>4</th>\n",
       "      <td>5</td>\n",
       "      <td>Feminine</td>\n",
       "      <td>T-shirts and Tops</td>\n",
       "      <td>T-Shirt Básica De Algodão</td>\n",
       "      <td>Basis-Baumwoll-T-Shirt</td>\n",
       "      <td>T-Shirt En Coton De Base</td>\n",
       "      <td>Camiseta Básica De Algodón</td>\n",
       "      <td>Basic Cotton T-Shirt</td>\n",
       "      <td>基本棉T恤</td>\n",
       "      <td>NaN</td>\n",
       "      <td>S|M|L</td>\n",
       "      <td>11.69</td>\n",
       "    </tr>\n",
       "  </tbody>\n",
       "</table>\n",
       "</div>"
      ],
      "text/plain": [
       "   Product ID  Category           Sub Category  \\\n",
       "0           1  Feminine      Coats and Blazers   \n",
       "1           2  Feminine  Sweaters and Knitwear   \n",
       "2           3  Feminine  Dresses and Jumpsuits   \n",
       "3           4  Feminine     Shirts and Blouses   \n",
       "4           5  Feminine      T-shirts and Tops   \n",
       "\n",
       "                      Description PT                     Description DE  \\\n",
       "0  Esportivo Veludo Verde Com Botões       Sport Samt Sport Mit Knöpfen   \n",
       "1      Luxuoso Denim Rosa Com Botões  Luxuriöser Rosa Jeans Mit Knöpfen   \n",
       "2       Retrô Tricot Preto Estampado     Black Tricot Gedruckter Tricot   \n",
       "3            Blusa De Algodão Básica               Basis -Baumwollbluse   \n",
       "4          T-Shirt Básica De Algodão             Basis-Baumwoll-T-Shirt   \n",
       "\n",
       "                          Description FR                      Description ES  \\\n",
       "0  Sports Velvet Sports Avec Des Boutons  Deportes De Terciopelo Con Botones   \n",
       "1     Léchard De Denim Rose Avec Boutons       Denim Rosa Lujoso Con Botones   \n",
       "2          Tricot Imprimé En Tricot Noir         Tricot Negro Tricot Impreso   \n",
       "3             Chemisier En Coton De Base                    Blusa De Algodón   \n",
       "4               T-Shirt En Coton De Base          Camiseta Básica De Algodón   \n",
       "\n",
       "                      Description EN Description ZH  Color     Sizes  \\\n",
       "0  Sports Velvet Sports With Buttons     运动天鹅绒运动与按钮    NaN  S|M|L|XL   \n",
       "1  Luxurious Pink Denim With Buttons   豪华的粉红色牛仔布和纽扣   PINK  S|M|L|XL   \n",
       "2        Black Tricot Printed Tricot     黑色三角形印刷三角形  BLACK  S|M|L|XL   \n",
       "3                Basic Cotton Blouse         基本的棉衬衫    NaN  S|M|L|XL   \n",
       "4               Basic Cotton T-Shirt          基本棉T恤    NaN     S|M|L   \n",
       "\n",
       "   Production Cost  \n",
       "0            10.73  \n",
       "1            19.55  \n",
       "2            25.59  \n",
       "3            27.62  \n",
       "4            11.69  "
      ]
     },
     "execution_count": 23,
     "metadata": {},
     "output_type": "execute_result"
    }
   ],
   "source": [
    "df_product.head()"
   ]
  },
  {
   "cell_type": "code",
   "execution_count": 24,
   "id": "b247256f-4b6b-4678-8eb6-6f22cb513fd6",
   "metadata": {},
   "outputs": [
    {
     "name": "stdout",
     "output_type": "stream",
     "text": [
      "<class 'pandas.core.frame.DataFrame'>\n",
      "RangeIndex: 17940 entries, 0 to 17939\n",
      "Data columns (total 12 columns):\n",
      " #   Column           Non-Null Count  Dtype  \n",
      "---  ------           --------------  -----  \n",
      " 0   Product ID       17940 non-null  int64  \n",
      " 1   Category         17940 non-null  object \n",
      " 2   Sub Category     17940 non-null  object \n",
      " 3   Description PT   17940 non-null  object \n",
      " 4   Description DE   17940 non-null  object \n",
      " 5   Description FR   17940 non-null  object \n",
      " 6   Description ES   17940 non-null  object \n",
      " 7   Description EN   17940 non-null  object \n",
      " 8   Description ZH   17940 non-null  object \n",
      " 9   Color            5495 non-null   object \n",
      " 10  Sizes            15870 non-null  object \n",
      " 11  Production Cost  17940 non-null  float64\n",
      "dtypes: float64(1), int64(1), object(10)\n",
      "memory usage: 1.6+ MB\n"
     ]
    }
   ],
   "source": [
    "df_product.info()"
   ]
  },
  {
   "cell_type": "code",
   "execution_count": 25,
   "id": "ef3d362a-b49d-4513-a908-eaaf827829d8",
   "metadata": {},
   "outputs": [],
   "source": [
    "# Remove unwanted columns\n",
    "df_product = df_product.drop\\\n",
    "    (columns=['Sub Category', 'Description PT', 'Description DE', 'Description FR', 'Description ES', 'Description ZH', 'Color'])\n",
    "\n",
    "# Change product id datatype to string\n",
    "df_product['Product ID'] = df_product['Product ID'].astype(str)\n",
    "\n",
    "# drop empty rows.\n",
    "df_product.dropna(subset=['Sizes'], inplace=True)"
   ]
  },
  {
   "cell_type": "code",
   "execution_count": 26,
   "id": "c444f352-c353-42ff-9e2a-6254db410b13",
   "metadata": {},
   "outputs": [
    {
     "name": "stdout",
     "output_type": "stream",
     "text": [
      "<class 'pandas.core.frame.DataFrame'>\n",
      "Index: 15870 entries, 0 to 17938\n",
      "Data columns (total 5 columns):\n",
      " #   Column           Non-Null Count  Dtype  \n",
      "---  ------           --------------  -----  \n",
      " 0   Product ID       15870 non-null  object \n",
      " 1   Category         15870 non-null  object \n",
      " 2   Description EN   15870 non-null  object \n",
      " 3   Sizes            15870 non-null  object \n",
      " 4   Production Cost  15870 non-null  float64\n",
      "dtypes: float64(1), object(4)\n",
      "memory usage: 743.9+ KB\n"
     ]
    }
   ],
   "source": [
    "df_product.info()"
   ]
  },
  {
   "cell_type": "code",
   "execution_count": 27,
   "id": "497b9a4d-f8d1-44db-876b-6223a3fd3932",
   "metadata": {},
   "outputs": [
    {
     "data": {
      "text/plain": [
       "array(['Feminine', 'Masculine', 'Children'], dtype=object)"
      ]
     },
     "execution_count": 27,
     "metadata": {},
     "output_type": "execute_result"
    }
   ],
   "source": [
    "df_product['Category'].unique()"
   ]
  },
  {
   "cell_type": "markdown",
   "id": "cc41c794-7e58-4b56-a136-d3259f4fafaa",
   "metadata": {},
   "source": [
    "LOADING IN THE STORES DATA"
   ]
  },
  {
   "cell_type": "code",
   "execution_count": 28,
   "id": "19287818-cc6f-40e5-ba22-ec4a111644d4",
   "metadata": {},
   "outputs": [],
   "source": [
    "df_store = pd.read_csv(\"dataset/raw/stores.csv\")"
   ]
  },
  {
   "cell_type": "code",
   "execution_count": 29,
   "id": "2bdba93d-6c3e-4365-a84b-fcc19c4d7238",
   "metadata": {},
   "outputs": [
    {
     "data": {
      "text/html": [
       "<div>\n",
       "<style scoped>\n",
       "    .dataframe tbody tr th:only-of-type {\n",
       "        vertical-align: middle;\n",
       "    }\n",
       "\n",
       "    .dataframe tbody tr th {\n",
       "        vertical-align: top;\n",
       "    }\n",
       "\n",
       "    .dataframe thead th {\n",
       "        text-align: right;\n",
       "    }\n",
       "</style>\n",
       "<table border=\"1\" class=\"dataframe\">\n",
       "  <thead>\n",
       "    <tr style=\"text-align: right;\">\n",
       "      <th></th>\n",
       "      <th>Store ID</th>\n",
       "      <th>Country</th>\n",
       "      <th>City</th>\n",
       "      <th>Store Name</th>\n",
       "      <th>Number of Employees</th>\n",
       "      <th>ZIP Code</th>\n",
       "      <th>Latitude</th>\n",
       "      <th>Longitude</th>\n",
       "    </tr>\n",
       "  </thead>\n",
       "  <tbody>\n",
       "    <tr>\n",
       "      <th>0</th>\n",
       "      <td>1</td>\n",
       "      <td>United States</td>\n",
       "      <td>New York</td>\n",
       "      <td>Store New York</td>\n",
       "      <td>10</td>\n",
       "      <td>10001</td>\n",
       "      <td>40.7128</td>\n",
       "      <td>-74.0060</td>\n",
       "    </tr>\n",
       "    <tr>\n",
       "      <th>1</th>\n",
       "      <td>2</td>\n",
       "      <td>United States</td>\n",
       "      <td>Los Angeles</td>\n",
       "      <td>Store Los Angeles</td>\n",
       "      <td>8</td>\n",
       "      <td>90001</td>\n",
       "      <td>34.0522</td>\n",
       "      <td>-118.2437</td>\n",
       "    </tr>\n",
       "    <tr>\n",
       "      <th>2</th>\n",
       "      <td>3</td>\n",
       "      <td>United States</td>\n",
       "      <td>Chicago</td>\n",
       "      <td>Store Chicago</td>\n",
       "      <td>9</td>\n",
       "      <td>60601</td>\n",
       "      <td>41.8781</td>\n",
       "      <td>-87.6298</td>\n",
       "    </tr>\n",
       "    <tr>\n",
       "      <th>3</th>\n",
       "      <td>4</td>\n",
       "      <td>United States</td>\n",
       "      <td>Houston</td>\n",
       "      <td>Store Houston</td>\n",
       "      <td>10</td>\n",
       "      <td>77001</td>\n",
       "      <td>29.7604</td>\n",
       "      <td>-95.3698</td>\n",
       "    </tr>\n",
       "    <tr>\n",
       "      <th>4</th>\n",
       "      <td>5</td>\n",
       "      <td>United States</td>\n",
       "      <td>Phoenix</td>\n",
       "      <td>Store Phoenix</td>\n",
       "      <td>9</td>\n",
       "      <td>85001</td>\n",
       "      <td>33.4484</td>\n",
       "      <td>-112.0740</td>\n",
       "    </tr>\n",
       "  </tbody>\n",
       "</table>\n",
       "</div>"
      ],
      "text/plain": [
       "   Store ID        Country         City         Store Name  \\\n",
       "0         1  United States     New York     Store New York   \n",
       "1         2  United States  Los Angeles  Store Los Angeles   \n",
       "2         3  United States      Chicago      Store Chicago   \n",
       "3         4  United States      Houston      Store Houston   \n",
       "4         5  United States      Phoenix      Store Phoenix   \n",
       "\n",
       "   Number of Employees ZIP Code  Latitude  Longitude  \n",
       "0                   10    10001   40.7128   -74.0060  \n",
       "1                    8    90001   34.0522  -118.2437  \n",
       "2                    9    60601   41.8781   -87.6298  \n",
       "3                   10    77001   29.7604   -95.3698  \n",
       "4                    9    85001   33.4484  -112.0740  "
      ]
     },
     "execution_count": 29,
     "metadata": {},
     "output_type": "execute_result"
    }
   ],
   "source": [
    "df_store.head()"
   ]
  },
  {
   "cell_type": "code",
   "execution_count": 30,
   "id": "e6c22672-5461-4cb3-825c-0744e5538351",
   "metadata": {},
   "outputs": [
    {
     "name": "stdout",
     "output_type": "stream",
     "text": [
      "<class 'pandas.core.frame.DataFrame'>\n",
      "RangeIndex: 35 entries, 0 to 34\n",
      "Data columns (total 8 columns):\n",
      " #   Column               Non-Null Count  Dtype  \n",
      "---  ------               --------------  -----  \n",
      " 0   Store ID             35 non-null     int64  \n",
      " 1   Country              35 non-null     object \n",
      " 2   City                 35 non-null     object \n",
      " 3   Store Name           35 non-null     object \n",
      " 4   Number of Employees  35 non-null     int64  \n",
      " 5   ZIP Code             35 non-null     object \n",
      " 6   Latitude             35 non-null     float64\n",
      " 7   Longitude            35 non-null     float64\n",
      "dtypes: float64(2), int64(2), object(4)\n",
      "memory usage: 2.3+ KB\n"
     ]
    }
   ],
   "source": [
    "df_store.info()"
   ]
  },
  {
   "cell_type": "code",
   "execution_count": 31,
   "id": "cbb1e4c7-b007-41ab-ac67-e94339adbd0b",
   "metadata": {},
   "outputs": [],
   "source": [
    "# change store ID datatype to string\n",
    "df_store['Store ID'] = df_store['Store ID'].astype(str)\n",
    "\n",
    "# Drop unwanted columns\n",
    "df_store = df_store.drop(columns=['Store Name', 'ZIP Code', 'Latitude', 'Longitude'])"
   ]
  },
  {
   "cell_type": "code",
   "execution_count": 32,
   "id": "5974b078-ce7d-4ebe-b71d-a4501f18463d",
   "metadata": {},
   "outputs": [
    {
     "name": "stdout",
     "output_type": "stream",
     "text": [
      "<class 'pandas.core.frame.DataFrame'>\n",
      "RangeIndex: 35 entries, 0 to 34\n",
      "Data columns (total 4 columns):\n",
      " #   Column               Non-Null Count  Dtype \n",
      "---  ------               --------------  ----- \n",
      " 0   Store ID             35 non-null     object\n",
      " 1   Country              35 non-null     object\n",
      " 2   City                 35 non-null     object\n",
      " 3   Number of Employees  35 non-null     int64 \n",
      "dtypes: int64(1), object(3)\n",
      "memory usage: 1.2+ KB\n"
     ]
    }
   ],
   "source": [
    "df_store.info()"
   ]
  },
  {
   "cell_type": "code",
   "execution_count": 33,
   "id": "8bf98a88-6463-4d3e-bc52-903e6655c691",
   "metadata": {},
   "outputs": [
    {
     "data": {
      "text/plain": [
       "array(['United States', '中国', 'Deutschland', 'United Kingdom', 'France',\n",
       "       'España', 'Portugal'], dtype=object)"
      ]
     },
     "execution_count": 33,
     "metadata": {},
     "output_type": "execute_result"
    }
   ],
   "source": [
    "df_store['Country'].unique()"
   ]
  },
  {
   "cell_type": "code",
   "execution_count": null,
   "id": "baef3dd8-1c31-41dd-bd3f-31b1fec7af38",
   "metadata": {
    "collapsed": true,
    "jupyter": {
     "outputs_hidden": true
    }
   },
   "outputs": [],
   "source": [
    "# Renaming to China, Germany and Spain\n",
    "df_store['Country'] = df_store['Country'].replace({'中国':'China', 'Deutschland':'Germany', 'España':'Spain'})"
   ]
  },
  {
   "cell_type": "code",
   "execution_count": 35,
   "id": "9445c289-ae8e-4276-90db-054adbdd4ec1",
   "metadata": {},
   "outputs": [
    {
     "data": {
      "text/plain": [
       "array(['United States', 'China', 'Germany', 'United Kingdom', 'France',\n",
       "       'Spain', 'Portugal'], dtype=object)"
      ]
     },
     "execution_count": 35,
     "metadata": {},
     "output_type": "execute_result"
    }
   ],
   "source": [
    "df_store['Country'].unique()"
   ]
  },
  {
   "cell_type": "code",
   "execution_count": 36,
   "id": "61c37624-f514-446c-a11f-f3505aca6961",
   "metadata": {},
   "outputs": [
    {
     "data": {
      "text/plain": [
       "array(['New York', 'Los Angeles', 'Chicago', 'Houston', 'Phoenix', '上海',\n",
       "       '北京', '广州', '深圳', '重庆', 'Berlin', 'Hamburg', 'München', 'Köln',\n",
       "       'Frankfurt am Main', 'London', 'Birmingham', 'Glasgow',\n",
       "       'Liverpool', 'Bristol', 'Paris', 'Marseille', 'Lyon', 'Toulouse',\n",
       "       'Nice', 'Madrid', 'Barcelona', 'Valencia', 'Sevilla', 'Zaragoza',\n",
       "       'Lisboa', 'Porto', 'Braga', 'Guimarães', 'Coimbra'], dtype=object)"
      ]
     },
     "execution_count": 36,
     "metadata": {},
     "output_type": "execute_result"
    }
   ],
   "source": [
    "df_store['City'].unique()"
   ]
  },
  {
   "cell_type": "code",
   "execution_count": null,
   "id": "ba7475ab-651b-4537-b4f6-cfe602b178cd",
   "metadata": {
    "collapsed": true,
    "jupyter": {
     "outputs_hidden": true
    }
   },
   "outputs": [
    {
     "name": "stderr",
     "output_type": "stream",
     "text": [
      "/tmp/ipykernel_13792/1176884474.py:2: FutureWarning: A value is trying to be set on a copy of a DataFrame or Series through chained assignment using an inplace method.\n",
      "The behavior will change in pandas 3.0. This inplace method will never work because the intermediate object on which we are setting values always behaves as a copy.\n",
      "\n",
      "For example, when doing 'df[col].method(value, inplace=True)', try using 'df.method({col: value}, inplace=True)' or df[col] = df[col].method(value) instead, to perform the operation inplace on the original object.\n",
      "\n",
      "\n",
      "  df_store['City'].replace({'北京':'Beijing', '上海':'Shangai', '广州':'Guangzhou', '深圳':'Shenzhen', '重庆':'Chongqing'}, inplace=True)\n"
     ]
    }
   ],
   "source": [
    "# Renaming to Chinese to English word\n",
    "df_store['City'] = df_store['City'].replace({'北京':'Beijing', '上海':'Shangai', '广州':'Guangzhou', '深圳':'Shenzhen', '重庆':'Chongqing'})"
   ]
  },
  {
   "cell_type": "code",
   "execution_count": 38,
   "id": "01496bbb-0dc0-4746-adad-7402b2344c05",
   "metadata": {},
   "outputs": [
    {
     "data": {
      "text/plain": [
       "array(['New York', 'Los Angeles', 'Chicago', 'Houston', 'Phoenix',\n",
       "       'Shangai', 'Beijing', 'Guangzhou', 'Shenzhen', 'Chongqing',\n",
       "       'Berlin', 'Hamburg', 'München', 'Köln', 'Frankfurt am Main',\n",
       "       'London', 'Birmingham', 'Glasgow', 'Liverpool', 'Bristol', 'Paris',\n",
       "       'Marseille', 'Lyon', 'Toulouse', 'Nice', 'Madrid', 'Barcelona',\n",
       "       'Valencia', 'Sevilla', 'Zaragoza', 'Lisboa', 'Porto', 'Braga',\n",
       "       'Guimarães', 'Coimbra'], dtype=object)"
      ]
     },
     "execution_count": 38,
     "metadata": {},
     "output_type": "execute_result"
    }
   ],
   "source": [
    "df_store['City'].unique()"
   ]
  },
  {
   "cell_type": "markdown",
   "id": "0663f11e-0eaa-451c-a49f-b4995ca4c7fe",
   "metadata": {},
   "source": [
    "LOADING IN THE TRANSACTIONS DATA"
   ]
  },
  {
   "cell_type": "code",
   "execution_count": 39,
   "id": "2ed14fd9-633b-41a2-837e-04d92db6b393",
   "metadata": {},
   "outputs": [],
   "source": [
    "df_transaction = pd.read_csv(\"dataset/raw/transactions.csv\")"
   ]
  },
  {
   "cell_type": "code",
   "execution_count": 40,
   "id": "a85c1878-7595-467d-bf0f-2d7b0bac80a4",
   "metadata": {},
   "outputs": [
    {
     "name": "stdout",
     "output_type": "stream",
     "text": [
      "<class 'pandas.core.frame.DataFrame'>\n",
      "RangeIndex: 6416827 entries, 0 to 6416826\n",
      "Data columns (total 19 columns):\n",
      " #   Column            Non-Null Count    Dtype  \n",
      "---  ------            --------------    -----  \n",
      " 0   Invoice ID        6416827 non-null  object \n",
      " 1   Line              6416827 non-null  int64  \n",
      " 2   Customer ID       6416827 non-null  int64  \n",
      " 3   Product ID        6416827 non-null  int64  \n",
      " 4   Size              6003725 non-null  object \n",
      " 5   Color             2066044 non-null  object \n",
      " 6   Unit Price        6416827 non-null  float64\n",
      " 7   Quantity          6416827 non-null  int64  \n",
      " 8   Date              6416827 non-null  object \n",
      " 9   Discount          6416827 non-null  float64\n",
      " 10  Line Total        6416827 non-null  float64\n",
      " 11  Store ID          6416827 non-null  int64  \n",
      " 12  Employee ID       6416827 non-null  int64  \n",
      " 13  Currency          6416827 non-null  object \n",
      " 14  Currency Symbol   6416827 non-null  object \n",
      " 15  SKU               6416827 non-null  object \n",
      " 16  Transaction Type  6416827 non-null  object \n",
      " 17  Payment Method    6416827 non-null  object \n",
      " 18  Invoice Total     6416827 non-null  float64\n",
      "dtypes: float64(4), int64(6), object(9)\n",
      "memory usage: 930.2+ MB\n"
     ]
    }
   ],
   "source": [
    "df_transaction.info(show_counts=True)"
   ]
  },
  {
   "cell_type": "code",
   "execution_count": 41,
   "id": "86e9f736-abe0-4ddf-8789-bf3d4f9c7569",
   "metadata": {},
   "outputs": [],
   "source": [
    "# Change ID's datatype to string\n",
    "df_transaction['Customer ID'] = df_transaction['Customer ID'].astype(str)\n",
    "df_transaction['Store ID'] = df_transaction['Store ID'].astype(str)\n",
    "df_transaction['Product ID'] = df_transaction['Product ID'].astype(str)\n",
    "df_transaction['Employee ID'] = df_transaction['Employee ID'].astype(str)\n",
    "\n",
    "# Convert the DOB datatype to Datetime, Customer ID to string\n",
    "df_transaction['Date'] = pd.to_datetime(df_transaction['Date'])\n",
    "\n",
    "# Rename Line total as Cost of Goods Sold\n",
    "df_transaction = df_transaction.rename(columns={df_transaction.columns[10]: 'COGS'})\n",
    "\n",
    "# Drop unwanted columns\n",
    "df_transaction = df_transaction.drop(columns=['SKU', 'Color', 'Line', 'Currency Symbol', 'Invoice Total'])"
   ]
  },
  {
   "cell_type": "code",
   "execution_count": 43,
   "id": "ec6f782f-0900-4cb8-8e64-26ccde917fa1",
   "metadata": {},
   "outputs": [
    {
     "data": {
      "text/plain": [
       "array(['M', 'G', 'L', nan, 'XXL', 'XL', '38', 'P', 'S', '36', '44', '40',\n",
       "       '42', '46', '48', 'GG'], dtype=object)"
      ]
     },
     "execution_count": 43,
     "metadata": {},
     "output_type": "execute_result"
    }
   ],
   "source": [
    "df_transaction['Size'].unique()"
   ]
  },
  {
   "cell_type": "code",
   "execution_count": null,
   "id": "e32a5191-5c03-458f-994a-1c74f189f68f",
   "metadata": {},
   "outputs": [],
   "source": [
    "df_transaction['Size']\\\n",
    "    .replace(\n",
    "        {'G':'L', '38':'S', 'P':'S', '36':'S', '44':'XL', '40':'M',\n",
    "       '42':'L', '46':'XXL', '48':'XXXL', 'GG':'XL'\n",
    "        }, inplace=True)\n",
    "df_transaction['Size'] = df_transaction['Size'].fillna('Not Applicable')"
   ]
  },
  {
   "cell_type": "code",
   "execution_count": 53,
   "id": "892e3019-408a-452f-a0f7-795ef2fb1534",
   "metadata": {},
   "outputs": [
    {
     "data": {
      "text/plain": [
       "array(['M', 'L', 'Not Applicable', 'XXL', 'XL', 'S', 'XXXL'], dtype=object)"
      ]
     },
     "execution_count": 53,
     "metadata": {},
     "output_type": "execute_result"
    }
   ],
   "source": [
    "df_transaction['Size'].unique()"
   ]
  },
  {
   "cell_type": "code",
   "execution_count": 54,
   "id": "1d3068b4-1e67-43cd-b051-25bf2e0d0d2c",
   "metadata": {},
   "outputs": [
    {
     "name": "stdout",
     "output_type": "stream",
     "text": [
      "<class 'pandas.core.frame.DataFrame'>\n",
      "RangeIndex: 6416827 entries, 0 to 6416826\n",
      "Data columns (total 14 columns):\n",
      " #   Column            Non-Null Count    Dtype         \n",
      "---  ------            --------------    -----         \n",
      " 0   Invoice ID        6416827 non-null  object        \n",
      " 1   Customer ID       6416827 non-null  object        \n",
      " 2   Product ID        6416827 non-null  object        \n",
      " 3   Size              6416827 non-null  object        \n",
      " 4   Unit Price        6416827 non-null  float64       \n",
      " 5   Quantity          6416827 non-null  int64         \n",
      " 6   Date              6416827 non-null  datetime64[ns]\n",
      " 7   Discount          6416827 non-null  float64       \n",
      " 8   COGS              6416827 non-null  float64       \n",
      " 9   Store ID          6416827 non-null  object        \n",
      " 10  Employee ID       6416827 non-null  object        \n",
      " 11  Currency          6416827 non-null  object        \n",
      " 12  Transaction Type  6416827 non-null  object        \n",
      " 13  Payment Method    6416827 non-null  object        \n",
      "dtypes: datetime64[ns](1), float64(3), int64(1), object(9)\n",
      "memory usage: 685.4+ MB\n"
     ]
    }
   ],
   "source": [
    "df_transaction.info(show_counts=True)"
   ]
  },
  {
   "cell_type": "code",
   "execution_count": 55,
   "id": "648d66c4-6bcf-4433-b9ee-05b65efa7aef",
   "metadata": {},
   "outputs": [
    {
     "data": {
      "text/plain": [
       "array(['USD', 'CNY', 'EUR', 'GBP'], dtype=object)"
      ]
     },
     "execution_count": 55,
     "metadata": {},
     "output_type": "execute_result"
    }
   ],
   "source": [
    "df_transaction['Currency'].unique()"
   ]
  },
  {
   "cell_type": "markdown",
   "id": "a9665997-920f-46ed-929e-f13e750b824a",
   "metadata": {},
   "source": [
    "This shows that some COGS are in different currency, to convert everything to USD;"
   ]
  },
  {
   "cell_type": "code",
   "execution_count": 91,
   "id": "7259478f-75fb-4d27-86a0-c644b9c03a71",
   "metadata": {},
   "outputs": [],
   "source": [
    "# Set exchange rate for yuan, pounds, and euro\n",
    "exchange_rates = {\n",
    "    \"USD\": 1,\n",
    "    \"CNY\": 0.14,  \n",
    "    \"EUR\": 1.08, \n",
    "    \"GBP\": 1.26}"
   ]
  },
  {
   "cell_type": "code",
   "execution_count": 69,
   "id": "efdcf9ac-b6be-4ec0-b16f-935ebecaaa65",
   "metadata": {},
   "outputs": [],
   "source": [
    "# Convert COGS to USD using vectorized `map()`\n",
    "df_transaction[\"COGS(usd)\"] = df_transaction[\"COGS\"] * df_transaction[\"Currency\"].map(exchange_rates)"
   ]
  },
  {
   "cell_type": "code",
   "execution_count": 70,
   "id": "66d366af-758d-4bbd-8bfa-61d098150bd5",
   "metadata": {},
   "outputs": [
    {
     "data": {
      "text/html": [
       "<div>\n",
       "<style scoped>\n",
       "    .dataframe tbody tr th:only-of-type {\n",
       "        vertical-align: middle;\n",
       "    }\n",
       "\n",
       "    .dataframe tbody tr th {\n",
       "        vertical-align: top;\n",
       "    }\n",
       "\n",
       "    .dataframe thead th {\n",
       "        text-align: right;\n",
       "    }\n",
       "</style>\n",
       "<table border=\"1\" class=\"dataframe\">\n",
       "  <thead>\n",
       "    <tr style=\"text-align: right;\">\n",
       "      <th></th>\n",
       "      <th>Invoice ID</th>\n",
       "      <th>Customer ID</th>\n",
       "      <th>Product ID</th>\n",
       "      <th>Size</th>\n",
       "      <th>Unit Price</th>\n",
       "      <th>Quantity</th>\n",
       "      <th>Date</th>\n",
       "      <th>Discount</th>\n",
       "      <th>COGS</th>\n",
       "      <th>Store ID</th>\n",
       "      <th>Employee ID</th>\n",
       "      <th>Currency</th>\n",
       "      <th>Transaction Type</th>\n",
       "      <th>Payment Method</th>\n",
       "      <th>COGS(usd)</th>\n",
       "    </tr>\n",
       "  </thead>\n",
       "  <tbody>\n",
       "    <tr>\n",
       "      <th>0</th>\n",
       "      <td>INV-US-001-03558761</td>\n",
       "      <td>47162</td>\n",
       "      <td>485</td>\n",
       "      <td>M</td>\n",
       "      <td>80.5</td>\n",
       "      <td>1</td>\n",
       "      <td>2023-01-01 15:42:00</td>\n",
       "      <td>0.0</td>\n",
       "      <td>80.5</td>\n",
       "      <td>1</td>\n",
       "      <td>7</td>\n",
       "      <td>USD</td>\n",
       "      <td>Sale</td>\n",
       "      <td>Cash</td>\n",
       "      <td>80.5</td>\n",
       "    </tr>\n",
       "    <tr>\n",
       "      <th>1</th>\n",
       "      <td>INV-US-001-03558761</td>\n",
       "      <td>47162</td>\n",
       "      <td>2779</td>\n",
       "      <td>L</td>\n",
       "      <td>31.5</td>\n",
       "      <td>1</td>\n",
       "      <td>2023-01-01 15:42:00</td>\n",
       "      <td>0.4</td>\n",
       "      <td>18.9</td>\n",
       "      <td>1</td>\n",
       "      <td>7</td>\n",
       "      <td>USD</td>\n",
       "      <td>Sale</td>\n",
       "      <td>Cash</td>\n",
       "      <td>18.9</td>\n",
       "    </tr>\n",
       "    <tr>\n",
       "      <th>2</th>\n",
       "      <td>INV-US-001-03558761</td>\n",
       "      <td>47162</td>\n",
       "      <td>64</td>\n",
       "      <td>M</td>\n",
       "      <td>45.5</td>\n",
       "      <td>1</td>\n",
       "      <td>2023-01-01 15:42:00</td>\n",
       "      <td>0.4</td>\n",
       "      <td>27.3</td>\n",
       "      <td>1</td>\n",
       "      <td>7</td>\n",
       "      <td>USD</td>\n",
       "      <td>Sale</td>\n",
       "      <td>Cash</td>\n",
       "      <td>27.3</td>\n",
       "    </tr>\n",
       "    <tr>\n",
       "      <th>3</th>\n",
       "      <td>INV-US-001-03558762</td>\n",
       "      <td>10142</td>\n",
       "      <td>131</td>\n",
       "      <td>M</td>\n",
       "      <td>70.0</td>\n",
       "      <td>1</td>\n",
       "      <td>2023-01-01 20:04:00</td>\n",
       "      <td>0.4</td>\n",
       "      <td>42.0</td>\n",
       "      <td>1</td>\n",
       "      <td>6</td>\n",
       "      <td>USD</td>\n",
       "      <td>Sale</td>\n",
       "      <td>Cash</td>\n",
       "      <td>42.0</td>\n",
       "    </tr>\n",
       "    <tr>\n",
       "      <th>4</th>\n",
       "      <td>INV-US-001-03558762</td>\n",
       "      <td>10142</td>\n",
       "      <td>716</td>\n",
       "      <td>L</td>\n",
       "      <td>26.0</td>\n",
       "      <td>1</td>\n",
       "      <td>2023-01-01 20:04:00</td>\n",
       "      <td>0.0</td>\n",
       "      <td>26.0</td>\n",
       "      <td>1</td>\n",
       "      <td>6</td>\n",
       "      <td>USD</td>\n",
       "      <td>Sale</td>\n",
       "      <td>Cash</td>\n",
       "      <td>26.0</td>\n",
       "    </tr>\n",
       "  </tbody>\n",
       "</table>\n",
       "</div>"
      ],
      "text/plain": [
       "            Invoice ID Customer ID Product ID Size  Unit Price  Quantity  \\\n",
       "0  INV-US-001-03558761       47162        485    M        80.5         1   \n",
       "1  INV-US-001-03558761       47162       2779    L        31.5         1   \n",
       "2  INV-US-001-03558761       47162         64    M        45.5         1   \n",
       "3  INV-US-001-03558762       10142        131    M        70.0         1   \n",
       "4  INV-US-001-03558762       10142        716    L        26.0         1   \n",
       "\n",
       "                 Date  Discount  COGS Store ID Employee ID Currency  \\\n",
       "0 2023-01-01 15:42:00       0.0  80.5        1           7      USD   \n",
       "1 2023-01-01 15:42:00       0.4  18.9        1           7      USD   \n",
       "2 2023-01-01 15:42:00       0.4  27.3        1           7      USD   \n",
       "3 2023-01-01 20:04:00       0.4  42.0        1           6      USD   \n",
       "4 2023-01-01 20:04:00       0.0  26.0        1           6      USD   \n",
       "\n",
       "  Transaction Type Payment Method  COGS(usd)  \n",
       "0             Sale           Cash       80.5  \n",
       "1             Sale           Cash       18.9  \n",
       "2             Sale           Cash       27.3  \n",
       "3             Sale           Cash       42.0  \n",
       "4             Sale           Cash       26.0  "
      ]
     },
     "execution_count": 70,
     "metadata": {},
     "output_type": "execute_result"
    }
   ],
   "source": [
    "df_transaction.head()"
   ]
  },
  {
   "cell_type": "code",
   "execution_count": 1,
   "id": "145d0ba1-1e4c-4929-ad1b-4cee8f3145ce",
   "metadata": {},
   "outputs": [],
   "source": [
    "import matplotlib.pyplot as plt\n",
    "import seaborn as sns"
   ]
  },
  {
   "cell_type": "code",
   "execution_count": 74,
   "id": "471fb703-ddff-43cf-93c0-2d44d0c4d968",
   "metadata": {},
   "outputs": [
    {
     "data": {
      "image/png": "[encoded data removed]",
      "text/plain": [
       "<Figure size 600x400 with 1 Axes>"
      ]
     },
     "metadata": {},
     "output_type": "display_data"
    }
   ],
   "source": [
    "plt.figure(figsize=(6, 4))\n",
    "sns.boxplot(x=df_transaction[\"COGS(usd)\"])\n",
    "plt.title(\"Box Plot for Outlier Detection\")\n",
    "plt.show()"
   ]
  },
  {
   "cell_type": "code",
   "execution_count": 89,
   "id": "c8af0145-f79c-4911-a249-072a37f43ac5",
   "metadata": {},
   "outputs": [
    {
     "name": "stdout",
     "output_type": "stream",
     "text": [
      "                Invoice ID Customer ID Product ID Size  Unit Price  Quantity  \\\n",
      "26251  RET-US-001-03575953       12176       4848    M       103.0         3   \n",
      "29736  RET-US-001-03578780       69406       3267    M       119.0         3   \n",
      "45708  RET-US-001-03589540       23524       5451    M       124.0         3   \n",
      "48491  RET-US-001-03590879       37094       5425    M       103.5         3   \n",
      "49011  RET-US-001-03589540       23524       5451    M       124.0         3   \n",
      "\n",
      "            Date  Discount   COGS Store ID Employee ID Currency  \\\n",
      "26251 2023-03-04       0.0 -309.0        1          13      USD   \n",
      "29736 2023-03-11       0.0 -357.0        1          13      USD   \n",
      "45708 2023-04-03       0.0 -372.0        1          12      USD   \n",
      "48491 2023-04-09       0.0 -310.5        1          13      USD   \n",
      "49011 2023-04-11       0.0 -372.0        1          12      USD   \n",
      "\n",
      "      Transaction Type Payment Method  COGS(usd)  \n",
      "26251           Return           Cash     -309.0  \n",
      "29736           Return    Credit Card     -357.0  \n",
      "45708           Return           Cash     -372.0  \n",
      "48491           Return    Credit Card     -310.5  \n",
      "49011           Return           Cash     -372.0  \n"
     ]
    }
   ],
   "source": [
    "subset_df = df_transaction[df_transaction['COGS(usd)'] < -300]\n",
    "print(subset_df.head())"
   ]
  },
  {
   "cell_type": "markdown",
   "id": "28da2bcf-25b9-4a81-8abf-33f4238d626e",
   "metadata": {},
   "source": [
    "With the above output, we can see that the ones with negative values are return purchases"
   ]
  },
  {
   "cell_type": "markdown",
   "id": "3cbf8787-c2fa-4855-9979-f5c578344e42",
   "metadata": {},
   "source": [
    "Then, Save the dataFrame as a .parquet file"
   ]
  },
  {
   "cell_type": "code",
   "execution_count": 92,
   "id": "e0363a7a-b1cb-49cb-974d-1b515489d060",
   "metadata": {},
   "outputs": [],
   "source": [
    "df_customers.to_parquet(\"dataset/pq/customers.parquet\")"
   ]
  },
  {
   "cell_type": "code",
   "execution_count": 93,
   "id": "a1991bec-f80d-460e-a4b1-b0d4a3e42dee",
   "metadata": {},
   "outputs": [],
   "source": [
    "df_employee.to_parquet(\"dataset/pq/employees.parquet\")"
   ]
  },
  {
   "cell_type": "code",
   "execution_count": 94,
   "id": "c6c63898-3512-4bfe-9805-cbedba5c465c",
   "metadata": {},
   "outputs": [],
   "source": [
    "df_store.to_parquet(\"dataset/pq/stores.parquet\")"
   ]
  },
  {
   "cell_type": "code",
   "execution_count": 95,
   "id": "47c83889-0975-4da1-a078-3a01dfd10be9",
   "metadata": {},
   "outputs": [],
   "source": [
    "df_product.to_parquet(\"dataset/pq/products.parquet\")"
   ]
  },
  {
   "cell_type": "code",
   "execution_count": 96,
   "id": "fa65b3fe-47cf-4964-ad44-c4d0df97e60d",
   "metadata": {},
   "outputs": [],
   "source": [
    "df_transaction.to_parquet(\"dataset/pq/transactions.parquet\")"
   ]
  },
  {
   "cell_type": "code",
   "execution_count": null,
   "id": "858a1c03-d2dd-483b-b1cb-a818e058904e",
   "metadata": {},
   "outputs": [],
   "source": []
  }
 ],
 "metadata": {
  "kernelspec": {
   "display_name": "Python 3 (ipykernel)",
   "language": "python",
   "name": "python3"
  },
  "language_info": {
   "codemirror_mode": {
    "name": "ipython",
    "version": 3
   },
   "file_extension": ".py",
   "mimetype": "text/x-python",
   "name": "python",
   "nbconvert_exporter": "python",
   "pygments_lexer": "ipython3",
   "version": "3.12.7"
  }
 },
 "nbformat": 4,
 "nbformat_minor": 5
}
