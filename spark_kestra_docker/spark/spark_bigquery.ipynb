{
 "cells": [
  {
   "cell_type": "code",
   "execution_count": 1,
   "id": "e4ea4970-09b7-4af9-bd81-600719a5c59e",
   "metadata": {},
   "outputs": [],
   "source": [
    "import pyspark\n",
    "from pyspark.sql import SparkSession\n",
    "from pyspark.sql import functions as F"
   ]
  },
  {
   "cell_type": "code",
   "execution_count": 2,
   "id": "bd0a78e3-f4a5-4117-9658-d16d34ba9524",
   "metadata": {},
   "outputs": [
    {
     "name": "stderr",
     "output_type": "stream",
     "text": [
      "25/04/04 22:36:00 WARN NativeCodeLoader: Unable to load native-hadoop library for your platform... using builtin-java classes where applicable\n",
      "Setting default log level to \"WARN\".\n",
      "To adjust logging level use sc.setLogLevel(newLevel). For SparkR, use setLogLevel(newLevel).\n"
     ]
    }
   ],
   "source": [
    "credentials_location = '/home/olalekan/data_Engineering_Journey/02_workflow_orchestration/keys/credk.json'\n",
    "\n",
    "spark = SparkSession.builder \\\n",
    "    .appName(\"BigQueryAccess\") \\\n",
    "    .config(\"spark.jars\", \"/home/olalekan/data_Engineering_Journey/05_batch_processing/code/lib/gcs-connector-hadoop3-latest.jar,/home/olalekan/DE-project-1/spark_kestra_docker/jars/spark-bigquery-with-dependencies_2.12-0.30.0.jar\") \\\n",
    "    .config(\"spark.hadoop.google.cloud.auth.service.account.enable\", \"true\") \\\n",
    "    .config(\"spark.hadoop.google.cloud.auth.service.account.json.keyfile\", credentials_location) \\\n",
    "    .getOrCreate()\n"
   ]
  },
  {
   "cell_type": "markdown",
   "id": "539139fb-b2d3-4344-b768-49c93c93d552",
   "metadata": {},
   "source": [
    "spark.conf.set('temporaryGcsBucket', 'olalekan-de2753')"
   ]
  },
  {
   "cell_type": "code",
   "execution_count": 3,
   "id": "77ac47b4-66a3-4c66-b22a-8d1f497e9b37",
   "metadata": {},
   "outputs": [],
   "source": [
    "# Read from BigQuery\n",
    "df_transact = spark.read \\\n",
    "    .format(\"bigquery\") \\\n",
    "    .option(\"table\", \"my-de-journey.Fashion_retail_dataset.transactions_partitioned\") \\\n",
    "    .load()"
   ]
  },
  {
   "cell_type": "code",
   "execution_count": 4,
   "id": "9b9678d7-b04b-4fd7-b675-5012aa613b0c",
   "metadata": {
    "collapsed": true,
    "jupyter": {
     "outputs_hidden": true
    },
    "scrolled": true
   },
   "outputs": [
    {
     "name": "stderr",
     "output_type": "stream",
     "text": [
      "                                                                                \r"
     ]
    },
    {
     "name": "stdout",
     "output_type": "stream",
     "text": [
      "+-------------------+----------+---------+----+----------+--------+-------------------+--------+------+-------+----------+--------+----------------+--------------+--------+\n",
      "|          InvoiceID|CustomerID|ProductID|Size|Unit Price|Quantity|               Date|Discount|  COGS|StoreID|EmployeeID|Currency|Transaction Type|Payment Method|COGS_usd|\n",
      "+-------------------+----------+---------+----+----------+--------+-------------------+--------+------+-------+----------+--------+----------------+--------------+--------+\n",
      "|RET-US-001-03881400|     23235|    17879|   M|     145.0|       1|2023-01-01 00:00:00|     0.0|-145.0|      1|         5|     USD|          Return|   Credit Card|  -145.0|\n",
      "|RET-US-001-03881122|      1004|    16086|   M|      71.0|       2|2023-01-01 00:00:00|     0.0|-142.0|      1|        11|     USD|          Return|   Credit Card|  -142.0|\n",
      "|RET-US-001-03881450|     35099|    15998|   S|     138.5|       1|2023-01-01 00:00:00|     0.0|-138.5|      1|         6|     USD|          Return|          Cash|  -138.5|\n",
      "|RET-US-001-03881333|     18305|    16228|   M|      62.0|       3|2023-01-01 00:00:00|     0.0|-120.9|      1|         5|     USD|          Return|   Credit Card|  -120.9|\n",
      "|RET-US-001-03881122|      1004|    17541|   M|     117.0|       1|2023-01-01 00:00:00|     0.0|-117.0|      1|        11|     USD|          Return|   Credit Card|  -117.0|\n",
      "|RET-US-001-03881122|      1004|    15211|   S|     116.5|       1|2023-01-01 00:00:00|     0.0|-116.5|      1|        11|     USD|          Return|   Credit Card|  -116.5|\n",
      "|RET-US-001-03881286|     11530|    15806|   S|      56.5|       2|2023-01-01 00:00:00|     0.0|-113.0|      1|         9|     USD|          Return|          Cash|  -113.0|\n",
      "|RET-US-001-03558809|     19800|      939|   S|      56.5|       2|2023-01-01 00:00:00|     0.0|-113.0|      1|         6|     USD|          Return|   Credit Card|  -113.0|\n",
      "|RET-US-001-03559203|     35743|     2614| XXL|      37.5|       3|2023-01-01 00:00:00|     0.0|-112.5|      1|        10|     USD|          Return|   Credit Card|  -112.5|\n",
      "|RET-US-001-03881310|     19764|    17863|   S|     108.0|       1|2023-01-01 00:00:00|     0.0|-108.0|      1|         6|     USD|          Return|   Credit Card|  -108.0|\n",
      "|RET-US-001-03879941|     71290|    16440|   M|     105.5|       1|2023-01-01 00:00:00|     0.0|-105.5|      1|         6|     USD|          Return|          Cash|  -105.5|\n",
      "|RET-US-001-03880371|      3093|    16028|  XL|     101.0|       1|2023-01-01 00:00:00|     0.0|-101.0|      1|         7|     USD|          Return|   Credit Card|  -101.0|\n",
      "|RET-US-001-03880622|     29341|    15742|   M|     100.5|       1|2023-01-01 00:00:00|     0.0|-100.5|      1|         6|     USD|          Return|   Credit Card|  -100.5|\n",
      "|RET-US-001-03558763|      8286|     1395|   M|      95.5|       1|2023-01-01 00:00:00|     0.0| -95.5|      1|         6|     USD|          Return|          Cash|   -95.5|\n",
      "|RET-US-001-03881417|     67845|    16544|   M|      95.0|       1|2023-01-01 00:00:00|     0.0| -95.0|      1|        12|     USD|          Return|          Cash|   -95.0|\n",
      "|RET-US-001-03558849|      8726|     2192|   M|      95.0|       1|2023-01-01 00:00:00|     0.0| -95.0|      1|        12|     USD|          Return|   Credit Card|   -95.0|\n",
      "|RET-US-001-03559867|     15192|     1239|   L|      95.0|       1|2023-01-01 00:00:00|     0.0| -95.0|      1|         8|     USD|          Return|          Cash|   -95.0|\n",
      "|RET-US-001-03559430|       586|     1265|   M|      92.5|       1|2023-01-01 00:00:00|     0.0| -92.5|      1|         6|     USD|          Return|          Cash|   -92.5|\n",
      "|RET-US-001-03559789|     72865|      797|   M|      92.5|       1|2023-01-01 00:00:00|     0.0| -92.5|      1|         8|     USD|          Return|   Credit Card|   -92.5|\n",
      "|RET-US-001-03559789|     72865|     1213|   M|      91.5|       1|2023-01-01 00:00:00|     0.0| -91.5|      1|         8|     USD|          Return|   Credit Card|   -91.5|\n",
      "+-------------------+----------+---------+----+----------+--------+-------------------+--------+------+-------+----------+--------+----------------+--------------+--------+\n",
      "only showing top 20 rows\n",
      "\n"
     ]
    }
   ],
   "source": [
    "df_transact.show()"
   ]
  },
  {
   "cell_type": "code",
   "execution_count": 5,
   "id": "27410275-d447-404f-9ae6-a54fd29251a7",
   "metadata": {},
   "outputs": [
    {
     "name": "stdout",
     "output_type": "stream",
     "text": [
      "root\n",
      " |-- InvoiceID: string (nullable = true)\n",
      " |-- CustomerID: long (nullable = true)\n",
      " |-- ProductID: long (nullable = true)\n",
      " |-- Size: string (nullable = true)\n",
      " |-- Unit Price: double (nullable = true)\n",
      " |-- Quantity: long (nullable = true)\n",
      " |-- Date: timestamp (nullable = true)\n",
      " |-- Discount: double (nullable = true)\n",
      " |-- COGS: double (nullable = true)\n",
      " |-- StoreID: long (nullable = true)\n",
      " |-- EmployeeID: long (nullable = true)\n",
      " |-- Currency: string (nullable = true)\n",
      " |-- Transaction Type: string (nullable = true)\n",
      " |-- Payment Method: string (nullable = true)\n",
      " |-- COGS_usd: double (nullable = true)\n",
      "\n"
     ]
    }
   ],
   "source": [
    "df_transact.printSchema()"
   ]
  },
  {
   "cell_type": "code",
   "execution_count": 6,
   "id": "004a056f-c6ae-4bc8-960d-d80d57c51d11",
   "metadata": {},
   "outputs": [],
   "source": [
    "# Perform an aggregation\n",
    "aggregated_df = df_transact.groupBy(\"ProductID\").agg(\n",
    "   F.round(F.sum(\"COGS_usd\"), 2).alias(\"total_COGS\"),  # Round the sum of COGS to 2 decimal places\n",
    "    F.sum(\"Quantity\").alias(\"total_sales\")\n",
    ")"
   ]
  },
  {
   "cell_type": "code",
   "execution_count": 7,
   "id": "5877b44a-4e62-476c-ace2-e536f28a93c8",
   "metadata": {
    "collapsed": true,
    "jupyter": {
     "outputs_hidden": true
    }
   },
   "outputs": [
    {
     "name": "stderr",
     "output_type": "stream",
     "text": [
      "                                                                                \r"
     ]
    },
    {
     "data": {
      "text/plain": [
       "[Row(ProductID=964, total_COGS=3252.78, total_sales=167),\n",
       " Row(ProductID=1677, total_COGS=4634.31, total_sales=183),\n",
       " Row(ProductID=2529, total_COGS=3392.27, total_sales=155),\n",
       " Row(ProductID=2509, total_COGS=6055.75, total_sales=182),\n",
       " Row(ProductID=2250, total_COGS=4066.45, total_sales=123),\n",
       " Row(ProductID=2214, total_COGS=4258.56, total_sales=125),\n",
       " Row(ProductID=1806, total_COGS=10073.2, total_sales=208),\n",
       " Row(ProductID=26, total_COGS=647.09, total_sales=36),\n",
       " Row(ProductID=2453, total_COGS=3281.76, total_sales=126),\n",
       " Row(ProductID=29, total_COGS=4509.87, total_sales=129)]"
      ]
     },
     "execution_count": 7,
     "metadata": {},
     "output_type": "execute_result"
    }
   ],
   "source": [
    "aggregated_df.head(10)"
   ]
  },
  {
   "cell_type": "code",
   "execution_count": 8,
   "id": "dac0c76a-6b7c-4949-9663-00657c6be025",
   "metadata": {},
   "outputs": [],
   "source": [
    "df_product = spark.read \\\n",
    "    .format(\"bigquery\") \\\n",
    "    .option(\"table\", \"my-de-journey.Fashion_retail_dataset.products\") \\\n",
    "    .load()"
   ]
  },
  {
   "cell_type": "code",
   "execution_count": 9,
   "id": "d6e29d99-207f-4a7a-8346-8338878988ab",
   "metadata": {},
   "outputs": [],
   "source": [
    "# Perform an inner join with the product table on column ProductID\n",
    "product_rev_df = aggregated_df.join(df_product, on=\"ProductID\", how=\"inner\")"
   ]
  },
  {
   "cell_type": "code",
   "execution_count": 10,
   "id": "ded32979-f57f-4d77-93a3-9b6471f5af6b",
   "metadata": {
    "collapsed": true,
    "jupyter": {
     "outputs_hidden": true
    }
   },
   "outputs": [
    {
     "name": "stderr",
     "output_type": "stream",
     "text": [
      "                                                                                \r"
     ]
    },
    {
     "data": {
      "text/plain": [
       "[Row(ProductID=964, total_COGS=3252.78, total_sales=167, Category='Feminine', Description EN='Boho Lace Beige Printed', Sizes='S|M|L', Production Cost=6.61),\n",
       " Row(ProductID=1677, total_COGS=4634.31, total_sales=183, Category='Masculine', Description EN='Luxury Burgundy Suede With Glitter', Sizes='M|L|XL|XXL', Production Cost=17.87),\n",
       " Row(ProductID=2529, total_COGS=3392.27, total_sales=155, Category='Feminine', Description EN='High Waist Skirt With Buttons', Sizes='S|M|L|XL', Production Cost=15.09),\n",
       " Row(ProductID=2509, total_COGS=6055.75, total_sales=182, Category='Masculine', Description EN='Casual Jacquard Black With Zipper', Sizes='M|L|XL|XXL', Production Cost=24.45),\n",
       " Row(ProductID=2250, total_COGS=4066.45, total_sales=123, Category='Masculine', Description EN='Classic Beige Tricot With Fringes', Sizes='M|L|XL', Production Cost=14.76)]"
      ]
     },
     "execution_count": 10,
     "metadata": {},
     "output_type": "execute_result"
    }
   ],
   "source": [
    "product_rev_df.head(5)"
   ]
  },
  {
   "cell_type": "code",
   "execution_count": 11,
   "id": "92022f67-ebcf-4f8a-9ac2-6aa3f078f90e",
   "metadata": {},
   "outputs": [],
   "source": [
    "product_rev_df = product_rev_df.withColumnRenamed(\"Description EN\", \"Description\")\n",
    "product_rev_df = product_rev_df.withColumnRenamed(\"Production Cost\", \"Production_cost\")"
   ]
  },
  {
   "cell_type": "code",
   "execution_count": 12,
   "id": "87e96ccc-9b24-4503-9633-d278cda591d2",
   "metadata": {},
   "outputs": [
    {
     "name": "stderr",
     "output_type": "stream",
     "text": [
      "                                                                                \r"
     ]
    }
   ],
   "source": [
    "product_rev_df.write \\\n",
    "    .format(\"bigquery\") \\\n",
    "    .option(\"temporaryGcsBucket\", \"olalekan-de2753\") \\\n",
    "    .option(\"writeMethod\", \"direct\") \\\n",
    "    .option(\"createDisposition\", \"CREATE_IF_NEEDED\") \\\n",
    "    .option(\"writeDisposition\", \"WRITE_TRUNCATE\") \\\n",
    "    .mode(\"overwrite\") \\\n",
    "    .save('my-de-journey.Fashion_retail_dataset.Product_Revenue')"
   ]
  },
  {
   "cell_type": "code",
   "execution_count": 13,
   "id": "390df96e-fc07-4e36-85dd-11ad02b6fdd5",
   "metadata": {},
   "outputs": [],
   "source": [
    "df_customer = spark.read \\\n",
    "    .format(\"bigquery\") \\\n",
    "    .option(\"table\", \"my-de-journey.Fashion_retail_dataset.customers\") \\\n",
    "    .load()"
   ]
  },
  {
   "cell_type": "code",
   "execution_count": 14,
   "id": "34d2dc70-7923-4889-809d-2d737c7e8aa2",
   "metadata": {},
   "outputs": [],
   "source": [
    "# Perform an aggregation with customer\n",
    "agg_cust_df = df_transact.groupBy(\"CustomerID\").agg(\n",
    "    F.round(F.sum(\"COGS_usd\"), 2).alias(\"total_COGS\"),  # Round the sum of COGS to 2 decimal places\n",
    "    F.sum(\"Quantity\").alias(\"total_sales\")\n",
    ")"
   ]
  },
  {
   "cell_type": "code",
   "execution_count": 15,
   "id": "d74c7920-9a86-4d58-9a25-37d77ef0600d",
   "metadata": {},
   "outputs": [
    {
     "name": "stderr",
     "output_type": "stream",
     "text": [
      "                                                                                \r"
     ]
    },
    {
     "data": {
      "text/plain": [
       "Row(CustomerID=73287, total_COGS=560.6, total_sales=15)"
      ]
     },
     "execution_count": 15,
     "metadata": {},
     "output_type": "execute_result"
    }
   ],
   "source": [
    "agg_cust_df.head()"
   ]
  },
  {
   "cell_type": "code",
   "execution_count": 16,
   "id": "e94baeb7-0cc4-4cf7-a3f8-224eac456fdf",
   "metadata": {},
   "outputs": [],
   "source": [
    "# Perform an inner join with the customer table on column CustomerID\n",
    "customer_rev_df = agg_cust_df.join(df_customer, on=\"CustomerID\", how=\"inner\")"
   ]
  },
  {
   "cell_type": "code",
   "execution_count": 17,
   "id": "64b00988-8173-487b-9897-01b56e49d9de",
   "metadata": {
    "collapsed": true,
    "jupyter": {
     "outputs_hidden": true
    }
   },
   "outputs": [
    {
     "name": "stderr",
     "output_type": "stream",
     "text": [
      "                                                                                \r"
     ]
    },
    {
     "data": {
      "text/plain": [
       "[Row(CustomerID=6, total_COGS=474.5, total_sales=11, Name='Steven Chavez', City='New York', Country='United States', Gender='M', DOB=datetime.date(1988, 1, 6)),\n",
       " Row(CustomerID=6, total_COGS=474.5, total_sales=11, Name='Steven Chavez', City='New York', Country='United States', Gender='M', DOB=datetime.date(1988, 1, 6)),\n",
       " Row(CustomerID=7, total_COGS=23.65, total_sales=2, Name='Steven Snyder', City='New York', Country='United States', Gender='M', DOB=datetime.date(2000, 10, 27)),\n",
       " Row(CustomerID=7, total_COGS=23.65, total_sales=2, Name='Steven Snyder', City='New York', Country='United States', Gender='M', DOB=datetime.date(2000, 10, 27)),\n",
       " Row(CustomerID=9, total_COGS=181.0, total_sales=4, Name='Edwin Bryant', City='New York', Country='United States', Gender='M', DOB=datetime.date(1999, 7, 19))]"
      ]
     },
     "execution_count": 17,
     "metadata": {},
     "output_type": "execute_result"
    }
   ],
   "source": [
    "customer_rev_df.head(5)"
   ]
  },
  {
   "cell_type": "code",
   "execution_count": 18,
   "id": "25d809cd-9cfc-4a93-aa11-351e498f43e9",
   "metadata": {},
   "outputs": [
    {
     "name": "stderr",
     "output_type": "stream",
     "text": [
      "                                                                                \r"
     ]
    }
   ],
   "source": [
    "customer_rev_df.write \\\n",
    "    .format(\"bigquery\") \\\n",
    "    .option(\"temporaryGcsBucket\", \"olalekan-de2753\") \\\n",
    "    .option(\"writeMethod\", \"direct\") \\\n",
    "    .option(\"createDisposition\", \"CREATE_IF_NEEDED\") \\\n",
    "    .option(\"writeDisposition\", \"WRITE_TRUNCATE\") \\\n",
    "    .mode(\"overwrite\") \\\n",
    "    .save('my-de-journey.Fashion_retail_dataset.Customer_Revenue')"
   ]
  },
  {
   "cell_type": "code",
   "execution_count": 19,
   "id": "f9cea9e1-f28a-45c8-b146-90204a813c01",
   "metadata": {},
   "outputs": [],
   "source": [
    "df_employee = spark.read \\\n",
    "    .format(\"bigquery\") \\\n",
    "    .option(\"table\", \"my-de-journey.Fashion_retail_dataset.employees\") \\\n",
    "    .load()"
   ]
  },
  {
   "cell_type": "code",
   "execution_count": 20,
   "id": "3d5adb74-416a-4a23-964d-5d3fe81b541c",
   "metadata": {},
   "outputs": [],
   "source": [
    "# Perform an aggregation with employee\n",
    "agg_emp_df = df_transact.groupBy(\"EmployeeID\").agg(\n",
    "    F.round(F.sum(\"COGS_usd\"), 2).alias(\"total_COGS\"),  # Round the sum of COGS to 2 decimal places\n",
    "    F.sum(\"Quantity\").alias(\"total_sales\")\n",
    ")"
   ]
  },
  {
   "cell_type": "code",
   "execution_count": 21,
   "id": "f6b8a2f7-3fb0-4412-8c1a-fa0dd4b91524",
   "metadata": {},
   "outputs": [],
   "source": [
    "# Perform an inner join with the customer table on column CustomerID\n",
    "employee_rev_df = agg_emp_df.join(df_employee, on=\"EmployeeID\", how=\"inner\")"
   ]
  },
  {
   "cell_type": "code",
   "execution_count": 22,
   "id": "d73059f2-0634-4f7b-9910-3407a26b7976",
   "metadata": {},
   "outputs": [
    {
     "name": "stderr",
     "output_type": "stream",
     "text": [
      "                                                                                \r"
     ]
    },
    {
     "data": {
      "text/plain": [
       "[Row(EmployeeID=29, total_COGS=1315221.32, total_sales=32912, StoreID=3, Name='Cynthia Serrano', Position='Sales Associate'),\n",
       " Row(EmployeeID=191, total_COGS=1092710.61, total_sales=34839, StoreID=16, Name='Christina Mccarthy', Position='Sales Associate'),\n",
       " Row(EmployeeID=222, total_COGS=395539.92, total_sales=12292, StoreID=19, Name='Michael Gardner', Position='Sales Associate'),\n",
       " Row(EmployeeID=243, total_COGS=1362143.63, total_sales=34793, StoreID=21, Name='David Sauvage', Position='Sales Associate'),\n",
       " Row(EmployeeID=278, total_COGS=740725.59, total_sales=19334, StoreID=24, Name='Arthur Hamon', Position='Sales Associate')]"
      ]
     },
     "execution_count": 22,
     "metadata": {},
     "output_type": "execute_result"
    }
   ],
   "source": [
    "employee_rev_df.head(5)"
   ]
  },
  {
   "cell_type": "code",
   "execution_count": 23,
   "id": "d8eddc99-0957-4aff-814d-88f671a73f07",
   "metadata": {},
   "outputs": [
    {
     "name": "stderr",
     "output_type": "stream",
     "text": [
      "                                                                                \r"
     ]
    }
   ],
   "source": [
    "employee_rev_df.write \\\n",
    "    .format(\"bigquery\") \\\n",
    "    .option(\"temporaryGcsBucket\", \"olalekan-de2753\") \\\n",
    "    .option(\"writeMethod\", \"direct\") \\\n",
    "    .option(\"createDisposition\", \"CREATE_IF_NEEDED\") \\\n",
    "    .option(\"writeDisposition\", \"WRITE_TRUNCATE\") \\\n",
    "    .mode(\"overwrite\") \\\n",
    "    .save('my-de-journey.Fashion_retail_dataset.Employee_Revenue')"
   ]
  },
  {
   "cell_type": "code",
   "execution_count": 24,
   "id": "a2a3532f-9ac0-4c9f-947c-114b944f056f",
   "metadata": {},
   "outputs": [],
   "source": [
    "# Perform an aggregation on store\n",
    "agg_prod_df = df_transact.groupBy(\"StoreID\").agg(\n",
    "    F.round(F.sum(\"COGS_usd\"), 2).alias(\"total_COGS\"),  # Round the sum of COGS to 2 decimal places\n",
    "    F.sum(\"Quantity\").alias(\"total_sales\")\n",
    ")"
   ]
  },
  {
   "cell_type": "code",
   "execution_count": 25,
   "id": "5cd8f110-2076-4c13-8df2-de9c710603d0",
   "metadata": {},
   "outputs": [],
   "source": [
    "# Load in the store table from BigQuery\n",
    "df_store = spark.read \\\n",
    "    .format(\"bigquery\") \\\n",
    "    .option(\"table\", \"my-de-journey.Fashion_retail_dataset.stores\") \\\n",
    "    .load()"
   ]
  },
  {
   "cell_type": "code",
   "execution_count": 26,
   "id": "8e5ef9ed-3fe0-4b6b-8786-f7e1c752327b",
   "metadata": {},
   "outputs": [],
   "source": [
    "# Perform an inner join with the store table on column ProductID\n",
    "store_rev_df = agg_prod_df.join(df_store, on=\"StoreID\", how=\"inner\")\n"
   ]
  },
  {
   "cell_type": "code",
   "execution_count": 27,
   "id": "f47cfbeb-022a-4e9a-9d1e-d439c7230a13",
   "metadata": {},
   "outputs": [],
   "source": [
    "# Removing whitespaces from column name\n",
    "store_rev_df = store_rev_df.withColumnRenamed(\"Number of Employees\", \"Employee_Count\")\n"
   ]
  },
  {
   "cell_type": "code",
   "execution_count": 28,
   "id": "74e28070-fb5c-46fd-8024-99383bf01c2a",
   "metadata": {},
   "outputs": [
    {
     "name": "stderr",
     "output_type": "stream",
     "text": [
      "                                                                                \r"
     ]
    }
   ],
   "source": [
    "# Upload to BigQuery as Store_Revenue\n",
    "store_rev_df.write \\\n",
    "    .format(\"bigquery\") \\\n",
    "    .option(\"temporaryGcsBucket\", \"olalekan-de2753\") \\\n",
    "    .option(\"writeMethod\", \"direct\") \\\n",
    "    .option(\"createDisposition\", \"CREATE_IF_NEEDED\") \\\n",
    "    .option(\"writeDisposition\", \"WRITE_TRUNCATE\") \\\n",
    "    .mode(\"overwrite\") \\\n",
    "    .save('my-de-journey.Fashion_retail_dataset.Store_Revenue')"
   ]
  },
  {
   "cell_type": "code",
   "execution_count": null,
   "id": "e1d52f5f-29c8-4575-880a-7fbe0706b8ee",
   "metadata": {},
   "outputs": [],
   "source": []
  }
 ],
 "metadata": {
  "kernelspec": {
   "display_name": "Python 3 (ipykernel)",
   "language": "python",
   "name": "python3"
  },
  "language_info": {
   "codemirror_mode": {
    "name": "ipython",
    "version": 3
   },
   "file_extension": ".py",
   "mimetype": "text/x-python",
   "name": "python",
   "nbconvert_exporter": "python",
   "pygments_lexer": "ipython3",
   "version": "3.12.7"
  }
 },
 "nbformat": 4,
 "nbformat_minor": 5
}
