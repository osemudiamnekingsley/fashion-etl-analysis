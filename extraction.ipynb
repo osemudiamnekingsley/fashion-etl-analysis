{
 "cells": [
  {
   "cell_type": "code",
   "execution_count": 3,
   "id": "db797fb5-e6be-413f-81fd-bf07641f24b1",
   "metadata": {},
   "outputs": [
    {
     "name": "stdout",
     "output_type": "stream",
     "text": [
      "Collecting kaggle\n",
      "  Downloading kaggle-1.7.4.2-py3-none-any.whl.metadata (16 kB)\n",
      "Requirement already satisfied: bleach in /home/olalekan/anaconda3/lib/python3.12/site-packages (from kaggle) (4.1.0)\n",
      "Requirement already satisfied: certifi>=14.05.14 in /home/olalekan/anaconda3/lib/python3.12/site-packages (from kaggle) (2024.8.30)\n",
      "Requirement already satisfied: charset-normalizer in /home/olalekan/anaconda3/lib/python3.12/site-packages (from kaggle) (3.3.2)\n",
      "Requirement already satisfied: idna in /home/olalekan/anaconda3/lib/python3.12/site-packages (from kaggle) (3.7)\n",
      "Requirement already satisfied: protobuf in /home/olalekan/anaconda3/lib/python3.12/site-packages (from kaggle) (4.25.3)\n",
      "Requirement already satisfied: python-dateutil>=2.5.3 in /home/olalekan/anaconda3/lib/python3.12/site-packages (from kaggle) (2.9.0.post0)\n",
      "Requirement already satisfied: python-slugify in /home/olalekan/anaconda3/lib/python3.12/site-packages (from kaggle) (5.0.2)\n",
      "Requirement already satisfied: requests in /home/olalekan/anaconda3/lib/python3.12/site-packages (from kaggle) (2.32.3)\n",
      "Requirement already satisfied: setuptools>=21.0.0 in /home/olalekan/anaconda3/lib/python3.12/site-packages (from kaggle) (75.1.0)\n",
      "Requirement already satisfied: six>=1.10 in /home/olalekan/anaconda3/lib/python3.12/site-packages (from kaggle) (1.16.0)\n",
      "Requirement already satisfied: text-unidecode in /home/olalekan/anaconda3/lib/python3.12/site-packages (from kaggle) (1.3)\n",
      "Requirement already satisfied: tqdm in /home/olalekan/anaconda3/lib/python3.12/site-packages (from kaggle) (4.66.5)\n",
      "Requirement already satisfied: urllib3>=1.15.1 in /home/olalekan/anaconda3/lib/python3.12/site-packages (from kaggle) (2.2.3)\n",
      "Requirement already satisfied: webencodings in /home/olalekan/anaconda3/lib/python3.12/site-packages (from kaggle) (0.5.1)\n",
      "Requirement already satisfied: packaging in /home/olalekan/anaconda3/lib/python3.12/site-packages (from bleach->kaggle) (24.1)\n",
      "Downloading kaggle-1.7.4.2-py3-none-any.whl (173 kB)\n",
      "Installing collected packages: kaggle\n",
      "Successfully installed kaggle-1.7.4.2\n"
     ]
    }
   ],
   "source": [
    "!pip install kaggle"
   ]
  },
  {
   "cell_type": "code",
   "execution_count": 4,
   "id": "dff510de-d2c0-4048-9d0e-784cdc75d387",
   "metadata": {},
   "outputs": [],
   "source": [
    "import kaggle"
   ]
  },
  {
   "cell_type": "code",
   "execution_count": 5,
   "id": "50498019-bca9-460c-b86e-b9eda7dc947c",
   "metadata": {},
   "outputs": [
    {
     "name": "stdout",
     "output_type": "stream",
     "text": [
      "Dataset URL: https://www.kaggle.com/datasets/ricgomes/global-fashion-retail-stores-dataset\n",
      "License(s): Attribution 4.0 International (CC BY 4.0)\n"
     ]
    }
   ],
   "source": [
    "! kaggle datasets download ricgomes/global-fashion-retail-stores-dataset"
   ]
  },
  {
   "cell_type": "code",
   "execution_count": 9,
   "id": "d401a63e-b3f0-4226-98d3-7cc0d9957d3c",
   "metadata": {},
   "outputs": [
    {
     "name": "stdout",
     "output_type": "stream",
     "text": [
      "Reading package lists... Done\n",
      "Building dependency tree       \n",
      "Reading state information... Done\n",
      "The following NEW packages will be installed:\n",
      "  unzip zip\n",
      "0 upgraded, 2 newly installed, 0 to remove and 10 not upgraded.\n",
      "Need to get 336 kB of archives.\n",
      "After this operation, 1231 kB of additional disk space will be used.\n",
      "Get:1 http://africa-south1-a.gce.clouds.archive.ubuntu.com/ubuntu focal-updates/main amd64 unzip amd64 6.0-25ubuntu1.2 [169 kB]\n",
      "Get:2 http://africa-south1-a.gce.clouds.archive.ubuntu.com/ubuntu focal/main amd64 zip amd64 3.0-11build1 [167 kB]\n",
      "Fetched 336 kB in 2s (189 kB/s)\n",
      "Selecting previously unselected package unzip.\n",
      "(Reading database ... 92164 files and directories currently installed.)\n",
      "Preparing to unpack .../unzip_6.0-25ubuntu1.2_amd64.deb ...\n",
      "Unpacking unzip (6.0-25ubuntu1.2) ...\n",
      "Selecting previously unselected package zip.\n",
      "Preparing to unpack .../zip_3.0-11build1_amd64.deb ...\n",
      "Unpacking zip (3.0-11build1) ...\n",
      "Setting up unzip (6.0-25ubuntu1.2) ...\n",
      "Setting up zip (3.0-11build1) ...\n",
      "Processing triggers for man-db (2.9.1-1) ...\n",
      "Processing triggers for mime-support (3.64ubuntu1) ...\n"
     ]
    }
   ],
   "source": [
    "! sudo apt-get install zip unzip"
   ]
  },
  {
   "cell_type": "code",
   "execution_count": 10,
   "id": "7c9b3277-9015-4668-918d-b17e31db68ad",
   "metadata": {},
   "outputs": [
    {
     "name": "stdout",
     "output_type": "stream",
     "text": [
      "Archive:  fashion-retail-stores-dataset.zip\n",
      "  inflating: customers.csv           \n",
      "  inflating: discounts.csv           \n",
      "  inflating: employees.csv           \n",
      "  inflating: products.csv            \n",
      "  inflating: stores.csv              \n",
      "  inflating: transactions.csv        \n"
     ]
    }
   ],
   "source": [
    "! unzip fashion-retail-stores-dataset.zip"
   ]
  },
  {
   "cell_type": "code",
   "execution_count": 11,
   "id": "686ad591-fa21-466b-8aa5-f2f59b4f6bd8",
   "metadata": {},
   "outputs": [],
   "source": [
    "! mkdir dataset\n"
   ]
  },
  {
   "cell_type": "code",
   "execution_count": 13,
   "id": "277ccc12-e1ab-42aa-a41f-5d723bcbd49c",
   "metadata": {},
   "outputs": [],
   "source": [
    "! mv fashion-retail-stores-dataset.zip dataset"
   ]
  },
  {
   "cell_type": "code",
   "execution_count": 14,
   "id": "2c6906e2-fdcf-45f0-bfde-4481da4336f2",
   "metadata": {},
   "outputs": [],
   "source": [
    "! mv customers.csv discounts.csv employees.csv products.csv stores.csv transactions.csv dataset/"
   ]
  },
  {
   "cell_type": "code",
   "execution_count": 15,
   "id": "139e8d6c-e507-4062-a592-233e16e617a0",
   "metadata": {},
   "outputs": [
    {
     "name": "stdout",
     "output_type": "stream",
     "text": [
      "README.md  dataset  extraction.ipynb\n"
     ]
    }
   ],
   "source": [
    "! ls"
   ]
  },
  {
   "cell_type": "code",
   "execution_count": null,
   "id": "e59a8c61-097a-4f8e-b132-c854d11ad482",
   "metadata": {},
   "outputs": [],
   "source": []
  }
 ],
 "metadata": {
  "kernelspec": {
   "display_name": "Python 3 (ipykernel)",
   "language": "python",
   "name": "python3"
  },
  "language_info": {
   "codemirror_mode": {
    "name": "ipython",
    "version": 3
   },
   "file_extension": ".py",
   "mimetype": "text/x-python",
   "name": "python",
   "nbconvert_exporter": "python",
   "pygments_lexer": "ipython3",
   "version": "3.12.7"
  }
 },
 "nbformat": 4,
 "nbformat_minor": 5
}
